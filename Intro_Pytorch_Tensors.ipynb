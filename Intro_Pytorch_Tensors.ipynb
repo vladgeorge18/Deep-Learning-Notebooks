{
  "cells": [
    {
      "cell_type": "markdown",
      "metadata": {
        "id": "view-in-github"
      },
      "source": [
        "<a href=\"https://colab.research.google.com/github/dkaratzas/DL2022-23/blob/main/Problems%202%20-%20Using%20Autograd%20and%20PyTorch/P2_2_Intro_Tensors.ipynb\" target=\"_parent\"><img src=\"https://colab.research.google.com/assets/colab-badge.svg\" alt=\"Open In Colab\"/></a>"
      ]
    },
    {
      "cell_type": "markdown",
      "metadata": {
        "id": "tcvesegFyIX-"
      },
      "source": [
        "[![Open In SageMaker Studio Lab](https://studiolab.sagemaker.aws/studiolab.svg)](https://studiolab.sagemaker.aws/import/github/dkaratzas/DL2022-23/blob/main/Problems%202%20-%20Using%20Autograd%20and%20PyTorch/P2_2_Intro_Tensors.ipynb)"
      ]
    },
    {
      "cell_type": "markdown",
      "metadata": {
        "id": "8IF4i31_7jbg"
      },
      "source": [
        "# What is PyTorch?\n",
        "\n",
        "<a href=\"https://pytorch.org/\">Pytorch</a> is a Python based scientific computing package targeted at two types of audience:\n",
        "\n",
        "-  At the low level, it is a tensor library capable to exploit the computational power of GPUs\n",
        "-  At the high level, it is a deep learning research platform that provides maximum flexibility and speed"
      ]
    },
    {
      "cell_type": "markdown",
      "metadata": {
        "id": "1ng2mpMYgkpu"
      },
      "source": [
        "## Import the library"
      ]
    },
    {
      "cell_type": "code",
      "execution_count": 3,
      "metadata": {
        "id": "FzX92S587jbm"
      },
      "outputs": [],
      "source": [
        "import torch"
      ]
    },
    {
      "cell_type": "markdown",
      "metadata": {
        "id": "3odUxKDa7jbq"
      },
      "source": [
        "## Torch!"
      ]
    },
    {
      "cell_type": "markdown",
      "metadata": {
        "id": "mw3ACW-eyIYE"
      },
      "source": [
        "At the core of PyTorch there is the `Tensor` class. It is very much like numpy's arrays, but supports autograd."
      ]
    },
    {
      "cell_type": "code",
      "execution_count": null,
      "metadata": {
        "colab": {
          "base_uri": "https://localhost:8080/"
        },
        "id": "dxMMJ1tO7jbq",
        "outputId": "ce04bc48-7172-4b6f-d05b-1eaf72e52638"
      },
      "outputs": [
        {
          "data": {
            "text/plain": [
              "torch.Tensor"
            ]
          },
          "execution_count": 8,
          "metadata": {},
          "output_type": "execute_result"
        }
      ],
      "source": [
        "# Generate a tensor of size 2x3x4\n",
        "t = torch.Tensor(2, 3, 4)\n",
        "type(t)"
      ]
    },
    {
      "cell_type": "code",
      "execution_count": null,
      "metadata": {
        "colab": {
          "base_uri": "https://localhost:8080/"
        },
        "id": "P3xcTvfc7jbr",
        "outputId": "ae06d988-799b-4d80-c506-77b7d2d79e5e"
      },
      "outputs": [
        {
          "data": {
            "text/plain": [
              "torch.Size([2, 3, 4])"
            ]
          },
          "execution_count": 9,
          "metadata": {},
          "output_type": "execute_result"
        }
      ],
      "source": [
        "# Get the size of the tensor\n",
        "t.size()"
      ]
    },
    {
      "cell_type": "markdown",
      "metadata": {
        "id": "kDV8gZtQyIYK"
      },
      "source": [
        "# Tensors and tensors"
      ]
    },
    {
      "cell_type": "code",
      "execution_count": null,
      "metadata": {
        "colab": {
          "base_uri": "https://localhost:8080/"
        },
        "id": "okM52HiDyIYL",
        "outputId": "5ca2f4d2-6a15-46ad-dd7c-e94e71a53b5f"
      },
      "outputs": [
        {
          "data": {
            "text/plain": [
              "torch.Tensor"
            ]
          },
          "execution_count": 10,
          "metadata": {},
          "output_type": "execute_result"
        }
      ],
      "source": [
        "t = torch.Tensor(2, 3, 4)\n",
        "type(t)"
      ]
    },
    {
      "cell_type": "code",
      "execution_count": null,
      "metadata": {
        "colab": {
          "base_uri": "https://localhost:8080/"
        },
        "id": "4BTJlKPWyIYL",
        "outputId": "b70730c5-d2cd-4eca-92be-197d287519a8"
      },
      "outputs": [
        {
          "data": {
            "text/plain": [
              "torch.Size([2, 3, 4])"
            ]
          },
          "execution_count": 11,
          "metadata": {},
          "output_type": "execute_result"
        }
      ],
      "source": [
        "t.shape"
      ]
    },
    {
      "cell_type": "code",
      "execution_count": null,
      "metadata": {
        "colab": {
          "base_uri": "https://localhost:8080/"
        },
        "id": "pusVGlb5yIYL",
        "outputId": "0625466c-0d61-4fe1-f897-ad6994ea17cc"
      },
      "outputs": [
        {
          "data": {
            "text/plain": [
              "tensor([[[2.7058e+23, 1.0790e-08, 2.1707e-18, 1.6678e+19],\n",
              "         [7.0976e+22, 2.1715e-18, 4.2330e+21, 1.6534e+19],\n",
              "         [1.1625e+27, 1.4580e-19, 7.1856e+22, 4.3605e+27]],\n",
              "\n",
              "        [[1.5766e-19, 7.1856e+22, 4.3605e+27, 1.4580e-19],\n",
              "         [1.8179e+31, 1.8524e+28, 2.1715e-18, 6.7380e-10],\n",
              "         [3.3500e-09, 1.0625e+21, 1.0486e+21, 8.5823e-07]]])"
            ]
          },
          "execution_count": 12,
          "metadata": {},
          "output_type": "execute_result"
        }
      ],
      "source": [
        "t"
      ]
    },
    {
      "cell_type": "code",
      "execution_count": null,
      "metadata": {
        "colab": {
          "base_uri": "https://localhost:8080/"
        },
        "id": "ObX2wLyCyIYL",
        "outputId": "5f73a291-8c59-4e4f-bbfd-c525a6297ea1"
      },
      "outputs": [
        {
          "data": {
            "text/plain": [
              "torch.Tensor"
            ]
          },
          "execution_count": 13,
          "metadata": {},
          "output_type": "execute_result"
        }
      ],
      "source": [
        "t1 = torch.tensor([1, 2, 3, 4])\n",
        "type(t1)"
      ]
    },
    {
      "cell_type": "code",
      "execution_count": null,
      "metadata": {
        "colab": {
          "base_uri": "https://localhost:8080/"
        },
        "id": "sll5NbsTyIYL",
        "outputId": "d92e3292-0b5f-4367-d110-7ac91c43e645"
      },
      "outputs": [
        {
          "data": {
            "text/plain": [
              "tensor([1, 2, 3, 4])"
            ]
          },
          "execution_count": 14,
          "metadata": {},
          "output_type": "execute_result"
        }
      ],
      "source": [
        "t1"
      ]
    },
    {
      "cell_type": "code",
      "execution_count": null,
      "metadata": {
        "colab": {
          "base_uri": "https://localhost:8080/"
        },
        "id": "tYJJkp2FyIYL",
        "outputId": "a7d613cf-e56e-474a-b543-dc8e147f6fe3"
      },
      "outputs": [
        {
          "data": {
            "text/plain": [
              "torch.Size([4])"
            ]
          },
          "execution_count": 15,
          "metadata": {},
          "output_type": "execute_result"
        }
      ],
      "source": [
        "t1.shape"
      ]
    },
    {
      "cell_type": "code",
      "execution_count": null,
      "metadata": {
        "colab": {
          "base_uri": "https://localhost:8080/"
        },
        "id": "HVoVwZLByIYM",
        "outputId": "29c1b55a-7401-4b9e-f1d0-a9d10ef1426c"
      },
      "outputs": [
        {
          "data": {
            "text/plain": [
              "torch.Tensor"
            ]
          },
          "execution_count": 16,
          "metadata": {},
          "output_type": "execute_result"
        }
      ],
      "source": [
        "t2 = torch.tensor([[[1, 2, 3, 4], [1, 2, 3, 4], [1, 2, 3, 4]], [[1, 2, 3, 4], [1, 2, 3, 4], [1, 2, 3, 4]]])\n",
        "type(t2)"
      ]
    },
    {
      "cell_type": "code",
      "execution_count": null,
      "metadata": {
        "colab": {
          "base_uri": "https://localhost:8080/"
        },
        "id": "Y306ZdIXyIYM",
        "outputId": "26de66e7-3f43-414c-e1c8-c7c64082ef4c"
      },
      "outputs": [
        {
          "data": {
            "text/plain": [
              "tensor([[[1, 2, 3, 4],\n",
              "         [1, 2, 3, 4],\n",
              "         [1, 2, 3, 4]],\n",
              "\n",
              "        [[1, 2, 3, 4],\n",
              "         [1, 2, 3, 4],\n",
              "         [1, 2, 3, 4]]])"
            ]
          },
          "execution_count": 17,
          "metadata": {},
          "output_type": "execute_result"
        }
      ],
      "source": [
        "t2"
      ]
    },
    {
      "cell_type": "code",
      "execution_count": null,
      "metadata": {
        "colab": {
          "base_uri": "https://localhost:8080/"
        },
        "id": "bwPWsVjqyIYM",
        "outputId": "c14b7ef4-d8bd-44bf-d18d-08e5edcacbe2"
      },
      "outputs": [
        {
          "data": {
            "text/plain": [
              "torch.Size([2, 3, 4])"
            ]
          },
          "execution_count": 18,
          "metadata": {},
          "output_type": "execute_result"
        }
      ],
      "source": [
        "t2.shape"
      ]
    },
    {
      "cell_type": "code",
      "execution_count": null,
      "metadata": {
        "colab": {
          "base_uri": "https://localhost:8080/"
        },
        "id": "60fsUROsyIYM",
        "outputId": "3d3cad51-cf6e-48bf-97ec-0d1c02ca72f5"
      },
      "outputs": [
        {
          "data": {
            "text/plain": [
              "tensor([[[0., 0., 0., 0.],\n",
              "         [0., 0., 0., 0.],\n",
              "         [0., 0., 0., 0.]],\n",
              "\n",
              "        [[0., 0., 0., 0.],\n",
              "         [0., 0., 0., 0.],\n",
              "         [0., 0., 0., 0.]]])"
            ]
          },
          "execution_count": 19,
          "metadata": {},
          "output_type": "execute_result"
        }
      ],
      "source": [
        "torch.zeros(2, 3, 4)"
      ]
    },
    {
      "cell_type": "markdown",
      "metadata": {
        "id": "-enxHw_JaeZJ"
      },
      "source": [
        "# Dimensions"
      ]
    },
    {
      "cell_type": "code",
      "execution_count": null,
      "metadata": {
        "colab": {
          "base_uri": "https://localhost:8080/"
        },
        "id": "XXAmpH-Z7jbr",
        "outputId": "95e46d10-9da1-4e77-f344-33c678fba3e1"
      },
      "outputs": [
        {
          "name": "stdout",
          "output_type": "stream",
          "text": [
            "point in a 24 dimensional space\n",
            "organised in 3 sub-dimensions\n"
          ]
        }
      ],
      "source": [
        "t = torch.Tensor(2, 3, 4)\n",
        "# prints dimensional space and sub-dimensions\n",
        "print(f'point in a {t.numel()} dimensional space')\n",
        "print(f'organised in {t.dim()} sub-dimensions')"
      ]
    },
    {
      "cell_type": "code",
      "execution_count": null,
      "metadata": {
        "colab": {
          "base_uri": "https://localhost:8080/"
        },
        "id": "uC8XADcV7jbr",
        "outputId": "a09d1749-a082-48a8-d874-d76897b688e4"
      },
      "outputs": [
        {
          "data": {
            "text/plain": [
              "tensor([[[-6.0348e+18,  3.0889e-41,  0.0000e+00,  0.0000e+00],\n",
              "         [ 1.4013e-45,  0.0000e+00, -8.1226e-01,  3.0893e-41],\n",
              "         [-7.1259e+00,  4.4480e-41, -8.1226e-01,  3.0893e-41]],\n",
              "\n",
              "        [[ 9.1477e-41,  0.0000e+00,  3.3631e-44,  0.0000e+00],\n",
              "         [ 3.5873e-43,  0.0000e+00, -7.4139e+00,  4.4480e-41],\n",
              "         [ 0.0000e+00,  0.0000e+00,  0.0000e+00,  0.0000e+00]]])"
            ]
          },
          "execution_count": 21,
          "metadata": {},
          "output_type": "execute_result"
        }
      ],
      "source": [
        "t"
      ]
    },
    {
      "cell_type": "code",
      "execution_count": null,
      "metadata": {
        "colab": {
          "base_uri": "https://localhost:8080/"
        },
        "id": "3ARC3wOQ7jbr",
        "outputId": "3570dd35-a033-4b14-826a-9018f8c22f75"
      },
      "outputs": [
        {
          "data": {
            "text/plain": [
              "tensor([[[4., 6., 4., 8.],\n",
              "         [4., 1., 8., 9.],\n",
              "         [2., 1., 7., 9.]],\n",
              "\n",
              "        [[9., 4., 3., 3.],\n",
              "         [3., 1., 4., 8.],\n",
              "         [3., 3., 3., 0.]]])"
            ]
          },
          "execution_count": 47,
          "metadata": {},
          "output_type": "execute_result"
        }
      ],
      "source": [
        "# Mind the underscore!\n",
        "# Any operation that mutates a tensor in-place is post-fixed with an _.\n",
        "# For example: x.copy_(y), x.t_(), x.random_(n) will change x.\n",
        "t.random_(10)"
      ]
    },
    {
      "cell_type": "code",
      "execution_count": null,
      "metadata": {
        "colab": {
          "base_uri": "https://localhost:8080/"
        },
        "id": "qElhqXAirvzt",
        "outputId": "eaf8c596-f2e7-4103-ac73-a2276eb78ef9"
      },
      "outputs": [
        {
          "name": "stdout",
          "output_type": "stream",
          "text": [
            "t2:  tensor([[[-3.4069e+00,  3.0893e-41, -7.0217e-01],\n",
            "         [ 3.0893e-41,  0.0000e+00,  0.0000e+00]],\n",
            "\n",
            "        [[ 0.0000e+00,  0.0000e+00,  0.0000e+00],\n",
            "         [ 0.0000e+00,  1.4013e-45,  0.0000e+00]]])\n",
            "t1:  tensor([[[-4.1518e-01,  3.0893e-41, -3.4139e+00],\n",
            "         [ 3.0893e-41,  1.1210e-43,  0.0000e+00]],\n",
            "\n",
            "        [[ 8.9683e-44,  0.0000e+00, -9.6587e-19],\n",
            "         [ 3.0889e-41,  0.0000e+00,  0.0000e+00]]])\n",
            "t2:  tensor([[[-4.1518e-01,  3.0893e-41, -3.4139e+00],\n",
            "         [ 3.0893e-41,  1.1210e-43,  0.0000e+00]],\n",
            "\n",
            "        [[ 8.9683e-44,  0.0000e+00, -9.6587e-19],\n",
            "         [ 3.0889e-41,  0.0000e+00,  0.0000e+00]]])\n",
            "t1:  tensor([[[-4.1518e-01,  3.0893e-41, -3.4139e+00],\n",
            "         [ 3.0893e-41,  1.1210e-43,  0.0000e+00]],\n",
            "\n",
            "        [[ 8.9683e-44,  0.0000e+00, -9.6587e-19],\n",
            "         [ 3.0889e-41,  0.0000e+00,  0.0000e+00]]])\n",
            "t2:  tensor([[[0., 0., 0.],\n",
            "         [0., 0., 0.]],\n",
            "\n",
            "        [[0., 0., 0.],\n",
            "         [0., 0., 0.]]])\n",
            "t1:  tensor([[[-4.1518e-01,  3.0893e-41, -3.4139e+00],\n",
            "         [ 3.0893e-41,  1.1210e-43,  0.0000e+00]],\n",
            "\n",
            "        [[ 8.9683e-44,  0.0000e+00, -9.6587e-19],\n",
            "         [ 3.0889e-41,  0.0000e+00,  0.0000e+00]]])\n"
          ]
        }
      ],
      "source": [
        "t1 = torch.Tensor(2,2,3)\n",
        "t2 = torch.Tensor(2,2,3)\n",
        "print(\"t2: \",t2)\n",
        "print(\"t1: \",t1)\n",
        "t2.copy_(t1)\n",
        "print(\"t2: \",t2)\n",
        "print(\"t1: \",t1)\n",
        "t2.zero_()\n",
        "print(\"t2: \",t2)\n",
        "print(\"t1: \",t1)"
      ]
    },
    {
      "cell_type": "code",
      "execution_count": null,
      "metadata": {
        "colab": {
          "base_uri": "https://localhost:8080/"
        },
        "id": "wL2ajaMg7jbs",
        "outputId": "d77e1b81-61d8-41e9-d08f-120591f884d3"
      },
      "outputs": [
        {
          "data": {
            "text/plain": [
              "tensor([[4., 6., 4., 8., 4., 1., 8., 9.],\n",
              "        [2., 1., 7., 9., 9., 4., 3., 3.],\n",
              "        [3., 1., 4., 8., 3., 3., 3., 0.]])"
            ]
          },
          "execution_count": 48,
          "metadata": {},
          "output_type": "execute_result"
        }
      ],
      "source": [
        "r = t.view(3, 8) # r is the Tensor reshaped to the size 3x8\n",
        "r"
      ]
    },
    {
      "cell_type": "code",
      "execution_count": null,
      "metadata": {
        "colab": {
          "base_uri": "https://localhost:8080/"
        },
        "id": "chVt2dvHwnY5",
        "outputId": "79abff28-6c87-4b7d-bfa1-965a7b7f3380"
      },
      "outputs": [
        {
          "name": "stdout",
          "output_type": "stream",
          "text": [
            "t3:  tensor([[[-6.5453e+20,  4.4480e-41, -6.5453e+20,  4.4480e-41],\n",
            "         [ 1.4013e-45,  0.0000e+00, -3.2220e+00,  3.0893e-41],\n",
            "         [-7.1259e+00,  4.4480e-41, -3.2220e+00,  3.0893e-41]],\n",
            "\n",
            "        [[ 1.0078e+00,  0.0000e+00,  5.6052e-45,  0.0000e+00],\n",
            "         [ 8.0002e+00,  9.0000e+00, -7.4139e+00,  4.4480e-41],\n",
            "         [ 0.0000e+00,  0.0000e+00,  0.0000e+00,  0.0000e+00]]])\n",
            "t4:  tensor([[[-3.3981e+00,  3.0893e-41, -3.4261e+00,  3.0893e-41],\n",
            "         [ 0.0000e+00,  0.0000e+00,  0.0000e+00,  0.0000e+00],\n",
            "         [ 0.0000e+00,  0.0000e+00,  0.0000e+00,  0.0000e+00]],\n",
            "\n",
            "        [[ 0.0000e+00,  0.0000e+00,  1.3593e-43,  0.0000e+00],\n",
            "         [-7.0217e-01,  3.0893e-41, -3.6218e+00,  3.0893e-41],\n",
            "         [ 0.0000e+00,  0.0000e+00,  0.0000e+00,  0.0000e+00]]])\n",
            "t3:  tensor([[[-6.5453e+20,  4.4480e-41, -6.5453e+20,  4.4480e-41],\n",
            "         [ 1.4013e-45,  0.0000e+00, -3.2220e+00,  3.0893e-41],\n",
            "         [-7.1259e+00,  4.4480e-41, -3.2220e+00,  3.0893e-41]],\n",
            "\n",
            "        [[ 1.0078e+00,  0.0000e+00,  5.6052e-45,  0.0000e+00],\n",
            "         [ 8.0002e+00,  9.0000e+00, -7.4139e+00,  4.4480e-41],\n",
            "         [ 0.0000e+00,  0.0000e+00,  0.0000e+00,  0.0000e+00]]])\n",
            "t4:  tensor([[[ 4.6230e+01,  3.0893e-41, -3.4261e+00,  3.0893e-41],\n",
            "         [ 0.0000e+00,  0.0000e+00,  0.0000e+00,  0.0000e+00],\n",
            "         [ 0.0000e+00,  0.0000e+00,  0.0000e+00,  0.0000e+00]],\n",
            "\n",
            "        [[ 0.0000e+00,  0.0000e+00,  1.3593e-43,  0.0000e+00],\n",
            "         [-7.0217e-01,  3.0893e-41, -3.6218e+00,  3.0893e-41],\n",
            "         [ 0.0000e+00,  0.0000e+00,  0.0000e+00,  0.0000e+00]]])\n",
            "z:  tensor([[[ 4.6230e+01,  3.0893e-41, -3.4261e+00,  3.0893e-41],\n",
            "         [ 0.0000e+00,  0.0000e+00,  0.0000e+00,  0.0000e+00],\n",
            "         [ 0.0000e+00,  0.0000e+00,  0.0000e+00,  0.0000e+00]],\n",
            "\n",
            "        [[ 0.0000e+00,  0.0000e+00,  1.3593e-43,  0.0000e+00],\n",
            "         [-7.0217e-01,  3.0893e-41, -3.6218e+00,  3.0893e-41],\n",
            "         [ 0.0000e+00,  0.0000e+00,  0.0000e+00,  0.0000e+00]]])\n"
          ]
        }
      ],
      "source": [
        "t3 = torch.Tensor(2,3,4)\n",
        "t4 = torch.Tensor(2,3,4)\n",
        "print(\"t3: \",t3)\n",
        "print(\"t4: \",t4)\n",
        "z = t3.view(2,3,4)\n",
        "z = t4.view(2,3,4)\n",
        "z[0][0][0] = 46.23\n",
        "\n",
        "print(\"t3: \",t3)\n",
        "print(\"t4: \",t4)\n",
        "print(\"z: \",z)"
      ]
    },
    {
      "cell_type": "code",
      "execution_count": null,
      "metadata": {
        "colab": {
          "base_uri": "https://localhost:8080/"
        },
        "id": "ivViPVSG7jbs",
        "outputId": "5091e9eb-fdc8-4c2b-bb27-cb3228753a8f"
      },
      "outputs": [
        {
          "data": {
            "text/plain": [
              "tensor([[0., 0., 0., 0., 0., 0., 0., 0.],\n",
              "        [0., 0., 0., 0., 0., 0., 0., 0.],\n",
              "        [0., 0., 0., 0., 0., 0., 0., 0.]])"
            ]
          },
          "execution_count": 49,
          "metadata": {},
          "output_type": "execute_result"
        }
      ],
      "source": [
        "# As you can see zero_ would replace r with 0's which was originally filled with integers\n",
        "r.zero_()"
      ]
    },
    {
      "cell_type": "code",
      "execution_count": null,
      "metadata": {
        "colab": {
          "base_uri": "https://localhost:8080/"
        },
        "id": "-7KuYVw17jbs",
        "outputId": "0eca09f6-76cf-4013-ed73-c2236cee5add"
      },
      "outputs": [
        {
          "data": {
            "text/plain": [
              "tensor([[[0., 0., 0., 0.],\n",
              "         [0., 0., 0., 0.],\n",
              "         [0., 0., 0., 0.]],\n",
              "\n",
              "        [[0., 0., 0., 0.],\n",
              "         [0., 0., 0., 0.],\n",
              "         [0., 0., 0., 0.]]])"
            ]
          },
          "execution_count": 50,
          "metadata": {},
          "output_type": "execute_result"
        }
      ],
      "source": [
        "t"
      ]
    },
    {
      "cell_type": "code",
      "execution_count": null,
      "metadata": {
        "colab": {
          "base_uri": "https://localhost:8080/"
        },
        "id": "uIhTq4nIdqx7",
        "outputId": "25004672-f6d2-4fb0-9a79-7b6527a221ea"
      },
      "outputs": [
        {
          "name": "stdout",
          "output_type": "stream",
          "text": [
            "(12, 4, 1) (8, 1)\n",
            "torch.Size([2, 3, 4]) torch.Size([3, 8])\n"
          ]
        }
      ],
      "source": [
        "# What are strides. And how are they related to shapes?\n",
        "print(t.stride(), r.stride())\n",
        "print(t.shape, r.shape)"
      ]
    },
    {
      "cell_type": "code",
      "execution_count": null,
      "metadata": {
        "colab": {
          "base_uri": "https://localhost:8080/"
        },
        "id": "Uum4hxYkffli",
        "outputId": "2c6a3007-091f-4f84-e00a-e7d7d7b3da46"
      },
      "outputs": [
        {
          "data": {
            "text/plain": [
              "tensor([[[2., 9., 4., 8.],\n",
              "         [4., 8., 5., 7.],\n",
              "         [1., 4., 4., 0.]],\n",
              "\n",
              "        [[9., 4., 8., 7.],\n",
              "         [4., 4., 2., 8.],\n",
              "         [2., 4., 8., 1.]]])"
            ]
          },
          "execution_count": 55,
          "metadata": {},
          "output_type": "execute_result"
        }
      ],
      "source": [
        "# Let's try that again without doing the operations in place\n",
        "t.random_(10)"
      ]
    },
    {
      "cell_type": "code",
      "execution_count": null,
      "metadata": {
        "colab": {
          "base_uri": "https://localhost:8080/"
        },
        "id": "bJM4es_M-p2Y",
        "outputId": "05bd4043-4b37-4903-b234-3668a50e70d3"
      },
      "outputs": [
        {
          "data": {
            "text/plain": [
              "tensor([[0., 0., 0., 0., 0., 0., 0., 0.],\n",
              "        [0., 0., 0., 0., 0., 0., 0., 0.],\n",
              "        [0., 0., 0., 0., 0., 0., 0., 0.]])"
            ]
          },
          "execution_count": 52,
          "metadata": {},
          "output_type": "execute_result"
        }
      ],
      "source": [
        "# Not in place\n",
        "r = t.view(3, 8)\n",
        "r = torch.zeros_like(r)\n",
        "r"
      ]
    },
    {
      "cell_type": "code",
      "execution_count": null,
      "metadata": {
        "colab": {
          "base_uri": "https://localhost:8080/"
        },
        "id": "Ivw8wI5U-12D",
        "outputId": "6f68644d-cee0-40ef-d985-f246d79440ba"
      },
      "outputs": [
        {
          "data": {
            "text/plain": [
              "tensor([[[5., 4., 3., 7.],\n",
              "         [4., 2., 6., 2.],\n",
              "         [2., 2., 7., 6.]],\n",
              "\n",
              "        [[7., 7., 8., 7.],\n",
              "         [5., 9., 0., 7.],\n",
              "         [8., 4., 0., 1.]]])"
            ]
          },
          "execution_count": 53,
          "metadata": {},
          "output_type": "execute_result"
        }
      ],
      "source": [
        "t"
      ]
    },
    {
      "cell_type": "code",
      "execution_count": null,
      "metadata": {
        "colab": {
          "base_uri": "https://localhost:8080/"
        },
        "id": "dJdGqvwTdiMs",
        "outputId": "1d59db15-f7c5-449d-847e-f3bba510e810"
      },
      "outputs": [
        {
          "name": "stdout",
          "output_type": "stream",
          "text": [
            "(12, 4, 1) (8, 1)\n"
          ]
        }
      ],
      "source": [
        "# What are strides?\n",
        "print(t.stride(), r.stride())"
      ]
    },
    {
      "cell_type": "code",
      "execution_count": null,
      "metadata": {
        "id": "p6Fcui7u7jbs"
      },
      "outputs": [],
      "source": [
        "# This *is* important\n",
        "s = r.clone()"
      ]
    },
    {
      "cell_type": "code",
      "execution_count": null,
      "metadata": {
        "colab": {
          "base_uri": "https://localhost:8080/"
        },
        "id": "rm9a0zci7jbt",
        "outputId": "c2231556-3f0d-48a5-a493-2cc6c2fedd6b"
      },
      "outputs": [
        {
          "data": {
            "text/plain": [
              "tensor([[1., 1., 1., 1., 1., 1., 1., 1.],\n",
              "        [1., 1., 1., 1., 1., 1., 1., 1.],\n",
              "        [1., 1., 1., 1., 1., 1., 1., 1.]])"
            ]
          },
          "execution_count": 58,
          "metadata": {},
          "output_type": "execute_result"
        }
      ],
      "source": [
        "# In-place fill of 1's\n",
        "s.fill_(1)\n",
        "s"
      ]
    },
    {
      "cell_type": "code",
      "execution_count": null,
      "metadata": {
        "colab": {
          "base_uri": "https://localhost:8080/"
        },
        "id": "Q1K3hywm7jbt",
        "outputId": "0fcc9a4b-4498-4367-9c64-cbb521e82e87"
      },
      "outputs": [
        {
          "data": {
            "text/plain": [
              "tensor([[0., 0., 0., 0., 0., 0., 0., 0.],\n",
              "        [0., 0., 0., 0., 0., 0., 0., 0.],\n",
              "        [0., 0., 0., 0., 0., 0., 0., 0.]])"
            ]
          },
          "execution_count": 60,
          "metadata": {},
          "output_type": "execute_result"
        }
      ],
      "source": [
        "# Because we cloned r, even though we did an in-place operation, this doesn't affect r\n",
        "r"
      ]
    },
    {
      "cell_type": "markdown",
      "metadata": {
        "id": "ir1URH3v7jbt"
      },
      "source": [
        "## Vectors (1D Tensors)"
      ]
    },
    {
      "cell_type": "code",
      "execution_count": null,
      "metadata": {
        "colab": {
          "base_uri": "https://localhost:8080/"
        },
        "id": "dRCvA1R17jbt",
        "outputId": "0c7cf25d-35c6-49f9-b8d3-596f4b25d48b"
      },
      "outputs": [
        {
          "data": {
            "text/plain": [
              "tensor([1., 2., 3., 4.])"
            ]
          },
          "execution_count": 3,
          "metadata": {},
          "output_type": "execute_result"
        }
      ],
      "source": [
        "# Creates a 1D tensor of integers 1 to 4\n",
        "v = torch.Tensor([1, 2, 3, 4])\n",
        "v"
      ]
    },
    {
      "cell_type": "code",
      "execution_count": null,
      "metadata": {
        "colab": {
          "base_uri": "https://localhost:8080/"
        },
        "id": "wmkSLrIi7jbt",
        "outputId": "fd718d56-a6d9-45bd-99aa-6549bb6575fb"
      },
      "outputs": [
        {
          "name": "stdout",
          "output_type": "stream",
          "text": [
            "dim: 1, size: 4\n"
          ]
        }
      ],
      "source": [
        "# Print number of dimensions (1D) and size of tensor\n",
        "print(f'dim: {v.dim()}, size: {v.size()[0]}')"
      ]
    },
    {
      "cell_type": "code",
      "execution_count": null,
      "metadata": {
        "colab": {
          "base_uri": "https://localhost:8080/"
        },
        "id": "K03oi68R7jbu",
        "outputId": "2bdbf371-100b-4f53-f0c1-12b41d28ed5b"
      },
      "outputs": [
        {
          "data": {
            "text/plain": [
              "tensor([1., 0., 2., 0.])"
            ]
          },
          "execution_count": 5,
          "metadata": {},
          "output_type": "execute_result"
        }
      ],
      "source": [
        "w = torch.Tensor([1, 0, 2, 0])\n",
        "w"
      ]
    },
    {
      "cell_type": "code",
      "execution_count": null,
      "metadata": {
        "colab": {
          "base_uri": "https://localhost:8080/"
        },
        "id": "yGGpVC_b7jbu",
        "outputId": "1f2f5337-36ae-4aa7-fdd2-30fdfbec9091"
      },
      "outputs": [
        {
          "data": {
            "text/plain": [
              "tensor([1., 0., 6., 0.])"
            ]
          },
          "execution_count": 6,
          "metadata": {},
          "output_type": "execute_result"
        }
      ],
      "source": [
        "# Element-wise multiplication\n",
        "v * w"
      ]
    },
    {
      "cell_type": "code",
      "execution_count": null,
      "metadata": {
        "colab": {
          "base_uri": "https://localhost:8080/"
        },
        "id": "pq7-Aqs_7jbu",
        "outputId": "cff00abd-3316-4775-d135-e3a721481309"
      },
      "outputs": [
        {
          "data": {
            "text/plain": [
              "tensor(7.)"
            ]
          },
          "execution_count": 7,
          "metadata": {},
          "output_type": "execute_result"
        }
      ],
      "source": [
        "# Scalar product: 1*1 + 2*0 + 3*2 + 4*0\n",
        "v @ w"
      ]
    },
    {
      "cell_type": "code",
      "execution_count": null,
      "metadata": {
        "colab": {
          "base_uri": "https://localhost:8080/"
        },
        "id": "x-oXbFTO7jbu",
        "outputId": "da6d637a-3581-4ea6-df15-bdedb9f0ef0d"
      },
      "outputs": [
        {
          "data": {
            "text/plain": [
              "tensor([1., 5., 5., 0., 7.])"
            ]
          },
          "execution_count": 8,
          "metadata": {},
          "output_type": "execute_result"
        }
      ],
      "source": [
        "# In-place replacement of random number from 0 to 10\n",
        "x = torch.Tensor(5).random_(10)\n",
        "x"
      ]
    },
    {
      "cell_type": "code",
      "execution_count": null,
      "metadata": {
        "colab": {
          "base_uri": "https://localhost:8080/"
        },
        "id": "00BUa-L47jbu",
        "outputId": "ef95e1ac-0e4c-40ea-a44e-cbc36a3176ab"
      },
      "outputs": [
        {
          "name": "stdout",
          "output_type": "stream",
          "text": [
            "first: 1.0, last: 7.0\n"
          ]
        }
      ],
      "source": [
        "print(f'first: {x[0]}, last: {x[-1]}')"
      ]
    },
    {
      "cell_type": "code",
      "execution_count": null,
      "metadata": {
        "colab": {
          "base_uri": "https://localhost:8080/"
        },
        "id": "ZX_Uy_T17jbu",
        "outputId": "c7c2bc3d-d6e1-491b-f29b-6f65d43c5936"
      },
      "outputs": [
        {
          "data": {
            "text/plain": [
              "tensor([5., 5.])"
            ]
          },
          "execution_count": 10,
          "metadata": {},
          "output_type": "execute_result"
        }
      ],
      "source": [
        "# Extract sub-Tensor [from:to)\n",
        "x[1:2 + 1]"
      ]
    },
    {
      "cell_type": "code",
      "execution_count": null,
      "metadata": {
        "colab": {
          "base_uri": "https://localhost:8080/"
        },
        "id": "ZPNJt5Kt7jbv",
        "outputId": "5504a4d1-33a0-427a-fc97-05965af428d3"
      },
      "outputs": [
        {
          "data": {
            "text/plain": [
              "tensor([1, 2, 3, 4])"
            ]
          },
          "execution_count": 11,
          "metadata": {},
          "output_type": "execute_result"
        }
      ],
      "source": [
        "# Create a tensor with integers ranging from 1 to 4 (both included)\n",
        "v = torch.arange(1, 5)\n",
        "v"
      ]
    },
    {
      "cell_type": "code",
      "execution_count": null,
      "metadata": {
        "colab": {
          "base_uri": "https://localhost:8080/"
        },
        "id": "7_nwZPg-7jbv",
        "outputId": "7e94ce99-0736-4c66-c561-46c96d26ef85"
      },
      "outputs": [
        {
          "name": "stdout",
          "output_type": "stream",
          "text": [
            "tensor([ 1,  4,  9, 16]) tensor([1, 2, 3, 4])\n"
          ]
        }
      ],
      "source": [
        "# Square all elements in the tensor\n",
        "print(v.pow(2), v)"
      ]
    },
    {
      "cell_type": "markdown",
      "metadata": {
        "id": "De7wobZv7jbv"
      },
      "source": [
        "## Matrices (2D Tensors)"
      ]
    },
    {
      "cell_type": "code",
      "execution_count": null,
      "metadata": {
        "colab": {
          "base_uri": "https://localhost:8080/"
        },
        "id": "JuiyP0MK7jbv",
        "outputId": "4483ce72-996b-4db9-cab5-0cd1d09512c8"
      },
      "outputs": [
        {
          "data": {
            "text/plain": [
              "tensor([[2., 5., 3., 7.],\n",
              "        [4., 2., 1., 9.]])"
            ]
          },
          "execution_count": 13,
          "metadata": {},
          "output_type": "execute_result"
        }
      ],
      "source": [
        "# Create a 2x4 tensor\n",
        "m = torch.Tensor([[2, 5, 3, 7],\n",
        "                  [4, 2, 1, 9]])\n",
        "m"
      ]
    },
    {
      "cell_type": "code",
      "execution_count": null,
      "metadata": {
        "colab": {
          "base_uri": "https://localhost:8080/"
        },
        "id": "xI36U8sv7jbv",
        "outputId": "fb6e0875-d379-4aee-866d-d797aa0cefc0"
      },
      "outputs": [
        {
          "data": {
            "text/plain": [
              "2"
            ]
          },
          "execution_count": 14,
          "metadata": {},
          "output_type": "execute_result"
        }
      ],
      "source": [
        "m.dim()"
      ]
    },
    {
      "cell_type": "code",
      "execution_count": null,
      "metadata": {
        "colab": {
          "base_uri": "https://localhost:8080/"
        },
        "id": "7f91z4dw7jbw",
        "outputId": "62c9990d-0334-4c4f-98c7-1b414e5f0fe6"
      },
      "outputs": [
        {
          "name": "stdout",
          "output_type": "stream",
          "text": [
            "2 -- 4 -- torch.Size([2, 4])\n"
          ]
        }
      ],
      "source": [
        "print(m.size(0), m.size(1), m.size(), sep=' -- ')"
      ]
    },
    {
      "cell_type": "code",
      "execution_count": null,
      "metadata": {
        "colab": {
          "base_uri": "https://localhost:8080/"
        },
        "id": "4vuLnT2z7jbw",
        "outputId": "dd3d6619-5d8a-4441-d942-20f4e4d415a5"
      },
      "outputs": [
        {
          "data": {
            "text/plain": [
              "tensor(3.)"
            ]
          },
          "execution_count": 16,
          "metadata": {},
          "output_type": "execute_result"
        }
      ],
      "source": [
        "# Indexing row 0, column 2 (0-indexed)\n",
        "m[0][2]"
      ]
    },
    {
      "cell_type": "code",
      "execution_count": null,
      "metadata": {
        "colab": {
          "base_uri": "https://localhost:8080/"
        },
        "id": "YLIC7pG97jbw",
        "outputId": "547db0a1-7fbb-4165-cffd-a6c7d8004b6a"
      },
      "outputs": [
        {
          "data": {
            "text/plain": [
              "tensor(3.)"
            ]
          },
          "execution_count": 17,
          "metadata": {},
          "output_type": "execute_result"
        }
      ],
      "source": [
        "# Indexing row 0, column 2 (0-indexed)\n",
        "m[0, 2]"
      ]
    },
    {
      "cell_type": "code",
      "execution_count": null,
      "metadata": {
        "colab": {
          "base_uri": "https://localhost:8080/"
        },
        "id": "dZNdTR3cTddM",
        "outputId": "f24098b8-0649-42a5-808c-8e1051e14b12"
      },
      "outputs": [
        {
          "data": {
            "text/plain": [
              "tensor([2., 5., 3., 7.])"
            ]
          },
          "execution_count": 21,
          "metadata": {},
          "output_type": "execute_result"
        }
      ],
      "source": [
        "m[0,:]"
      ]
    },
    {
      "cell_type": "code",
      "execution_count": null,
      "metadata": {
        "colab": {
          "base_uri": "https://localhost:8080/"
        },
        "id": "tsutF_zc7jbw",
        "outputId": "5ae38040-a915-4c00-989a-5fd1dd6daf8f"
      },
      "outputs": [
        {
          "data": {
            "text/plain": [
              "tensor([5., 2.])"
            ]
          },
          "execution_count": 18,
          "metadata": {},
          "output_type": "execute_result"
        }
      ],
      "source": [
        "# Indexing column 1, all rows (returns size 2)\n",
        "m[:, 1]"
      ]
    },
    {
      "cell_type": "code",
      "execution_count": null,
      "metadata": {
        "colab": {
          "base_uri": "https://localhost:8080/"
        },
        "id": "cLg24cHx7jbw",
        "outputId": "20ff5ce7-0f40-465e-a020-76e8474331db"
      },
      "outputs": [
        {
          "data": {
            "text/plain": [
              "tensor([[5.],\n",
              "        [2.]])"
            ]
          },
          "execution_count": 19,
          "metadata": {},
          "output_type": "execute_result"
        }
      ],
      "source": [
        "# Indexing column 1, all rows (returns size 2x1)\n",
        "m[:, [1]]"
      ]
    },
    {
      "cell_type": "code",
      "execution_count": null,
      "metadata": {
        "colab": {
          "base_uri": "https://localhost:8080/"
        },
        "id": "F8nu79EU7jbx",
        "outputId": "c6ea2cef-b300-4dca-cbf1-c0796b9e78dd"
      },
      "outputs": [
        {
          "data": {
            "text/plain": [
              "tensor([[2., 5., 3., 7.]])"
            ]
          },
          "execution_count": 22,
          "metadata": {},
          "output_type": "execute_result"
        }
      ],
      "source": [
        "# Indexes row 0, all columns (returns 1x4)\n",
        "m[[0], :]"
      ]
    },
    {
      "cell_type": "code",
      "execution_count": null,
      "metadata": {
        "colab": {
          "base_uri": "https://localhost:8080/"
        },
        "id": "oYVpTC7l7jbx",
        "outputId": "8ad1f80f-5aec-4674-ffdf-378521836a2d"
      },
      "outputs": [
        {
          "data": {
            "text/plain": [
              "tensor([1., 2., 3., 4.])"
            ]
          },
          "execution_count": 23,
          "metadata": {},
          "output_type": "execute_result"
        }
      ],
      "source": [
        "# Create tensor of numbers from 1 to 5)\n",
        "v = torch.arange(1., 5)\n",
        "v"
      ]
    },
    {
      "cell_type": "code",
      "execution_count": null,
      "metadata": {
        "colab": {
          "base_uri": "https://localhost:8080/"
        },
        "id": "0UQd3S3w7jbx",
        "outputId": "de21331b-7119-4dd2-c3a1-a9ec7793c418"
      },
      "outputs": [
        {
          "data": {
            "text/plain": [
              "tensor([[2., 5., 3., 7.],\n",
              "        [4., 2., 1., 9.]])"
            ]
          },
          "execution_count": 24,
          "metadata": {},
          "output_type": "execute_result"
        }
      ],
      "source": [
        "m"
      ]
    },
    {
      "cell_type": "code",
      "execution_count": null,
      "metadata": {
        "colab": {
          "base_uri": "https://localhost:8080/"
        },
        "id": "c10o4XUQ7jbx",
        "outputId": "9d830742-ff43-4ff4-aa67-f96f282e9288"
      },
      "outputs": [
        {
          "data": {
            "text/plain": [
              "tensor([49., 47.])"
            ]
          },
          "execution_count": 25,
          "metadata": {},
          "output_type": "execute_result"
        }
      ],
      "source": [
        "# Scalar product\n",
        "m @ v"
      ]
    },
    {
      "cell_type": "code",
      "execution_count": null,
      "metadata": {
        "colab": {
          "base_uri": "https://localhost:8080/"
        },
        "id": "fEkCtsZG7jbx",
        "outputId": "b7a89d74-bd85-434e-e3c2-d2f1d87a33ec"
      },
      "outputs": [
        {
          "data": {
            "text/plain": [
              "tensor(49.)"
            ]
          },
          "execution_count": 26,
          "metadata": {},
          "output_type": "execute_result"
        }
      ],
      "source": [
        "# Calculated by 1*2 + 2*5 + 3*3 + 4*7\n",
        "m[0, :] @ v"
      ]
    },
    {
      "cell_type": "code",
      "execution_count": null,
      "metadata": {
        "colab": {
          "base_uri": "https://localhost:8080/"
        },
        "id": "HzxKEjus7jby",
        "outputId": "23f1bb4f-bab2-45df-d0ce-47c7a8895cf9"
      },
      "outputs": [
        {
          "data": {
            "text/plain": [
              "tensor([47.])"
            ]
          },
          "execution_count": 27,
          "metadata": {},
          "output_type": "execute_result"
        }
      ],
      "source": [
        "# Calculated by\n",
        "m[[1], :] @ v"
      ]
    },
    {
      "cell_type": "code",
      "execution_count": null,
      "metadata": {
        "colab": {
          "base_uri": "https://localhost:8080/"
        },
        "id": "mP7c5qI17jby",
        "outputId": "cccd6935-d77d-4b94-a9bb-8eecf5567138"
      },
      "outputs": [
        {
          "data": {
            "text/plain": [
              "tensor([[2.4191, 5.8107, 3.2832, 7.3873],\n",
              "        [4.1141, 2.5933, 1.7637, 9.6411]])"
            ]
          },
          "execution_count": 28,
          "metadata": {},
          "output_type": "execute_result"
        }
      ],
      "source": [
        "# Add a random tensor of size 2x4 to m\n",
        "m + torch.rand(2, 4)"
      ]
    },
    {
      "cell_type": "code",
      "execution_count": null,
      "metadata": {
        "colab": {
          "base_uri": "https://localhost:8080/"
        },
        "id": "nli9YIb17jby",
        "outputId": "3eb90cb1-5086-4d58-e113-8beabdb89abf"
      },
      "outputs": [
        {
          "data": {
            "text/plain": [
              "tensor([[1.1186, 4.3373, 2.9863, 6.4730],\n",
              "        [3.2958, 1.3449, 0.7283, 8.9270]])"
            ]
          },
          "execution_count": 29,
          "metadata": {},
          "output_type": "execute_result"
        }
      ],
      "source": [
        "# Subtract a random tensor of size 2x4 to m\n",
        "m - torch.rand(2, 4)"
      ]
    },
    {
      "cell_type": "code",
      "execution_count": null,
      "metadata": {
        "colab": {
          "base_uri": "https://localhost:8080/"
        },
        "id": "v0QPbbr87jby",
        "outputId": "a8d9b250-6d65-4d54-db36-ae0610adc499"
      },
      "outputs": [
        {
          "data": {
            "text/plain": [
              "tensor([[0.1373, 4.0239, 1.8523, 5.1551],\n",
              "        [1.1968, 1.2199, 0.0997, 6.9421]])"
            ]
          },
          "execution_count": 30,
          "metadata": {},
          "output_type": "execute_result"
        }
      ],
      "source": [
        "# Multiply a random tensor of size 2x4 to m\n",
        "m * torch.rand(2, 4)"
      ]
    },
    {
      "cell_type": "code",
      "execution_count": null,
      "metadata": {
        "colab": {
          "base_uri": "https://localhost:8080/"
        },
        "id": "wRxwhq3p7jby",
        "outputId": "0b8f2e13-fcc4-421f-c4f8-8df5b37d58a0"
      },
      "outputs": [
        {
          "data": {
            "text/plain": [
              "tensor([[ 2.3055,  5.4929,  3.7822, 13.7879],\n",
              "        [10.1134,  2.7486, 35.7411,  9.5845]])"
            ]
          },
          "execution_count": 31,
          "metadata": {},
          "output_type": "execute_result"
        }
      ],
      "source": [
        "# Divide m by a random tensor of size 2x4\n",
        "m / torch.rand(2, 4)"
      ]
    },
    {
      "cell_type": "code",
      "execution_count": null,
      "metadata": {
        "colab": {
          "base_uri": "https://localhost:8080/"
        },
        "id": "MFjUamkg7jby",
        "outputId": "e895b476-c856-4cfa-efb1-f71852849026"
      },
      "outputs": [
        {
          "data": {
            "text/plain": [
              "torch.Size([2, 4])"
            ]
          },
          "execution_count": 32,
          "metadata": {},
          "output_type": "execute_result"
        }
      ],
      "source": [
        "m.size()"
      ]
    },
    {
      "cell_type": "code",
      "execution_count": null,
      "metadata": {
        "colab": {
          "base_uri": "https://localhost:8080/"
        },
        "id": "88uWT_-N7jbz",
        "outputId": "eed5b9a3-58c1-4eca-ad49-27e7d3c5b1d3"
      },
      "outputs": [
        {
          "data": {
            "text/plain": [
              "tensor([[2., 4.],\n",
              "        [5., 2.],\n",
              "        [3., 1.],\n",
              "        [7., 9.]])"
            ]
          },
          "execution_count": 33,
          "metadata": {},
          "output_type": "execute_result"
        }
      ],
      "source": [
        "# Transpose tensor m, which is essentially 2x4 to 4x2\n",
        "m.t()"
      ]
    },
    {
      "cell_type": "code",
      "execution_count": null,
      "metadata": {
        "colab": {
          "base_uri": "https://localhost:8080/"
        },
        "id": "hfx8uRtl7jbz",
        "outputId": "4cdd58b3-afff-44f1-b598-f65e5867782f"
      },
      "outputs": [
        {
          "data": {
            "text/plain": [
              "tensor([[2., 4.],\n",
              "        [5., 2.],\n",
              "        [3., 1.],\n",
              "        [7., 9.]])"
            ]
          },
          "execution_count": 34,
          "metadata": {},
          "output_type": "execute_result"
        }
      ],
      "source": [
        "# Same as\n",
        "m.transpose(0, 1)"
      ]
    },
    {
      "cell_type": "markdown",
      "metadata": {
        "id": "3p2bHHeHJewn"
      },
      "source": [
        "## Broadcasting\n",
        "\n",
        "Two tensors are “broadcastable” if the following rules hold:\n",
        "\n",
        "*   Each tensor has at least one dimension.\n",
        "*   When iterating over the dimension sizes, starting at the trailing dimension, the dimension sizes must either be equal, one of them is 1, or one of them does not exist.\n"
      ]
    },
    {
      "cell_type": "code",
      "execution_count": null,
      "metadata": {
        "id": "pPyg44mxJeHP"
      },
      "outputs": [],
      "source": [
        "x=torch.empty(5,7,3)\n",
        "y=torch.empty(5,7,3)\n",
        "# x and y are broadcastable since all dimensions are equal\n",
        "\n",
        "x=torch.empty((0,))\n",
        "y=torch.empty(2,2)\n",
        "# x and y are not broadcastable, because x does not have at least 1 dimension\n",
        "\n",
        "x=torch.empty(5,3,4,1)\n",
        "y=torch.empty(  3,1,1)\n",
        "# x and y are broadcastable.\n",
        "# 1st trailing dimension: both have size 1\n",
        "# 2nd trailing dimension: y has size 1\n",
        "# 3rd trailing dimension: x size == y size\n",
        "# 4th trailing dimension: y dimension doesn't exist\n",
        "\n",
        "# but:\n",
        "x=torch.empty(5,2,4,1)\n",
        "y=torch.empty(  3,1,1)\n",
        "# x and y are not broadcastable, because in the 3rd trailing dimension 2 != 3"
      ]
    },
    {
      "cell_type": "code",
      "execution_count": null,
      "metadata": {
        "colab": {
          "base_uri": "https://localhost:8080/"
        },
        "id": "MpudbDP9MI4U",
        "outputId": "42e36ec8-ba01-497d-c29a-6945ea460728"
      },
      "outputs": [
        {
          "name": "stdout",
          "output_type": "stream",
          "text": [
            "torch.Size([5, 3, 4, 1])\n",
            "torch.Size([3, 1, 7])\n"
          ]
        }
      ],
      "source": [
        "# How is the output dimension calculated?\n",
        "x=torch.empty(5,1,4,1)\n",
        "y=torch.empty(3,1,1)\n",
        "print((x+y).size())\n",
        "\n",
        "x=torch.empty(1)\n",
        "y=torch.empty(3,1,7)\n",
        "print((x+y).size())"
      ]
    },
    {
      "cell_type": "markdown",
      "metadata": {
        "id": "lpCZhT8U7jbz"
      },
      "source": [
        "## Constructors"
      ]
    },
    {
      "cell_type": "code",
      "execution_count": null,
      "metadata": {
        "colab": {
          "base_uri": "https://localhost:8080/"
        },
        "id": "ZYn7XeYu7jbz",
        "outputId": "13b17274-70c9-4073-fd5f-fd70f8cbb834"
      },
      "outputs": [
        {
          "data": {
            "text/plain": [
              "tensor([3., 4., 5., 6., 7., 8.])"
            ]
          },
          "execution_count": 37,
          "metadata": {},
          "output_type": "execute_result"
        }
      ],
      "source": [
        "# Create tensor from 3 to 8\n",
        "torch.arange(3., 8 + 1)"
      ]
    },
    {
      "cell_type": "code",
      "execution_count": null,
      "metadata": {
        "colab": {
          "base_uri": "https://localhost:8080/"
        },
        "id": "XH8X7Dts7jbz",
        "outputId": "9b6c6d08-90e2-482f-d5ed-9b0e020801bc"
      },
      "outputs": [
        {
          "data": {
            "text/plain": [
              "tensor([ 5.7000,  2.7000, -0.3000])"
            ]
          },
          "execution_count": 39,
          "metadata": {},
          "output_type": "execute_result"
        }
      ],
      "source": [
        "# Create tensor from 5.7 to -2.1 with step -3\n",
        "torch.arange(5.7, -2.1, -3)"
      ]
    },
    {
      "cell_type": "code",
      "execution_count": null,
      "metadata": {
        "colab": {
          "base_uri": "https://localhost:8080/"
        },
        "id": "3B14Dyrn7jbz",
        "outputId": "3cdeb82a-9e61-437a-ee57-3ab4fbf7470a"
      },
      "outputs": [
        {
          "data": {
            "text/plain": [
              "tensor([[3.0000, 3.2632, 3.5263, 3.7895, 4.0526, 4.3158, 4.5789, 4.8421, 5.1053,\n",
              "         5.3684, 5.6316, 5.8947, 6.1579, 6.4211, 6.6842, 6.9474, 7.2105, 7.4737,\n",
              "         7.7368, 8.0000]])"
            ]
          },
          "execution_count": 40,
          "metadata": {},
          "output_type": "execute_result"
        }
      ],
      "source": [
        "# returns a 1D tensor of equally spaced elements between start=3, end=8 and number of elements=20\n",
        "torch.linspace(3, 8, 20).view(1, -1)"
      ]
    },
    {
      "cell_type": "code",
      "execution_count": null,
      "metadata": {
        "colab": {
          "base_uri": "https://localhost:8080/"
        },
        "id": "tb4KEmjU7jb0",
        "outputId": "7a362973-5771-48cf-b7ab-cdcd805af1d7"
      },
      "outputs": [
        {
          "data": {
            "text/plain": [
              "tensor([[0., 0., 0., 0., 0.],\n",
              "        [0., 0., 0., 0., 0.],\n",
              "        [0., 0., 0., 0., 0.]])"
            ]
          },
          "execution_count": 41,
          "metadata": {},
          "output_type": "execute_result"
        }
      ],
      "source": [
        "# Create a tensor filled with 0's\n",
        "torch.zeros(3, 5)"
      ]
    },
    {
      "cell_type": "code",
      "execution_count": null,
      "metadata": {
        "colab": {
          "base_uri": "https://localhost:8080/"
        },
        "id": "TrOxrng27jb0",
        "outputId": "448c2fdd-6e30-4482-b348-654daaac846d"
      },
      "outputs": [
        {
          "data": {
            "text/plain": [
              "tensor([[[1., 1., 1., 1., 1.],\n",
              "         [1., 1., 1., 1., 1.]],\n",
              "\n",
              "        [[1., 1., 1., 1., 1.],\n",
              "         [1., 1., 1., 1., 1.]],\n",
              "\n",
              "        [[1., 1., 1., 1., 1.],\n",
              "         [1., 1., 1., 1., 1.]]])"
            ]
          },
          "execution_count": 42,
          "metadata": {},
          "output_type": "execute_result"
        }
      ],
      "source": [
        "# Create a tensor filled with 1's\n",
        "torch.ones(3, 2, 5)"
      ]
    },
    {
      "cell_type": "code",
      "execution_count": null,
      "metadata": {
        "colab": {
          "base_uri": "https://localhost:8080/"
        },
        "id": "xt6VUo1A7jb0",
        "outputId": "cacb6ddd-730d-42a1-f401-d59717cfbea6"
      },
      "outputs": [
        {
          "data": {
            "text/plain": [
              "tensor([[1., 0., 0.],\n",
              "        [0., 1., 0.],\n",
              "        [0., 0., 1.]])"
            ]
          },
          "execution_count": 43,
          "metadata": {},
          "output_type": "execute_result"
        }
      ],
      "source": [
        "# Create a tensor with the diagonal filled with 1\n",
        "torch.eye(3)"
      ]
    },
    {
      "cell_type": "code",
      "execution_count": null,
      "metadata": {
        "id": "oDCnuhOf7jb0"
      },
      "outputs": [],
      "source": [
        "from matplotlib import pyplot as plt\n",
        "plt.rcParams[\"figure.figsize\"] = (20,10)"
      ]
    },
    {
      "cell_type": "code",
      "execution_count": null,
      "metadata": {
        "colab": {
          "base_uri": "https://localhost:8080/",
          "height": 452
        },
        "id": "81dgFtq67jb0",
        "outputId": "927dff99-aa55-4900-b426-d4061d8a39d7"
      },
      "outputs": [
        {
          "data": {
            "image/png": "[encoded data removed]",
            "text/plain": [
              "<Figure size 2000x1000 with 1 Axes>"
            ]
          },
          "metadata": {},
          "output_type": "display_data"
        }
      ],
      "source": [
        "# Numpy bridge!\n",
        "plt.hist(torch.randn(1000).numpy(), 100);"
      ]
    },
    {
      "cell_type": "code",
      "execution_count": null,
      "metadata": {
        "colab": {
          "base_uri": "https://localhost:8080/",
          "height": 445
        },
        "id": "pBhx09297jb1",
        "outputId": "1d9c1d1f-1878-4377-d33c-94d98dc39b88"
      },
      "outputs": [
        {
          "data": {
            "image/png": "[encoded data removed]",
            "text/plain": [
              "<Figure size 2000x1000 with 1 Axes>"
            ]
          },
          "metadata": {},
          "output_type": "display_data"
        }
      ],
      "source": [
        "plt.hist(torch.randn(10**6).numpy(), 100);"
      ]
    },
    {
      "cell_type": "markdown",
      "metadata": {
        "id": "SyeN3wTV7jb1"
      },
      "source": [
        "## Casting"
      ]
    },
    {
      "cell_type": "code",
      "execution_count": null,
      "metadata": {
        "id": "MxMGbcNP7jb1"
      },
      "outputs": [],
      "source": [
        "# Helper to get what kind of tensor types\n",
        "torch.*Tensor?"
      ]
    },
    {
      "cell_type": "code",
      "execution_count": null,
      "metadata": {
        "colab": {
          "base_uri": "https://localhost:8080/"
        },
        "id": "-6pXTH4b7jb1",
        "outputId": "69278c33-b26d-4341-fba0-16dfd308ea05"
      },
      "outputs": [
        {
          "data": {
            "text/plain": [
              "tensor([[2., 5., 3., 7.],\n",
              "        [4., 2., 1., 9.]])"
            ]
          },
          "execution_count": 48,
          "metadata": {},
          "output_type": "execute_result"
        }
      ],
      "source": [
        "m = torch.Tensor([[2, 5, 3, 7],\n",
        "                  [4, 2, 1, 9]])\n",
        "m"
      ]
    },
    {
      "cell_type": "code",
      "execution_count": null,
      "metadata": {
        "colab": {
          "base_uri": "https://localhost:8080/"
        },
        "id": "3TAG0hTN7jb2",
        "outputId": "94fdfdef-670f-4f77-c184-fb96a7923878"
      },
      "outputs": [
        {
          "data": {
            "text/plain": [
              "tensor([[2., 5., 3., 7.],\n",
              "        [4., 2., 1., 9.]], dtype=torch.float64)"
            ]
          },
          "execution_count": 49,
          "metadata": {},
          "output_type": "execute_result"
        }
      ],
      "source": [
        "# This is basically a 64 bit float tensor\n",
        "m_double = m.double()\n",
        "m_double"
      ]
    },
    {
      "cell_type": "code",
      "execution_count": null,
      "metadata": {
        "colab": {
          "base_uri": "https://localhost:8080/"
        },
        "id": "hFe9nMZi7jb2",
        "outputId": "513bdc5b-80df-4e3d-c2c9-4930a3a476d9"
      },
      "outputs": [
        {
          "data": {
            "text/plain": [
              "tensor([[2, 5, 3, 7],\n",
              "        [4, 2, 1, 9]], dtype=torch.uint8)"
            ]
          },
          "execution_count": 50,
          "metadata": {},
          "output_type": "execute_result"
        }
      ],
      "source": [
        "# This creates a tensor of type int8\n",
        "m_byte = m.byte()\n",
        "m_byte"
      ]
    },
    {
      "cell_type": "code",
      "execution_count": null,
      "metadata": {
        "colab": {
          "base_uri": "https://localhost:8080/"
        },
        "id": "FSVzhX_I7jb2",
        "outputId": "edf30bf2-cc6d-473d-8bc3-32bb33d050bf"
      },
      "outputs": [
        {
          "data": {
            "text/plain": [
              "array([[2., 5., 3., 7.],\n",
              "       [4., 2., 1., 9.]], dtype=float32)"
            ]
          },
          "execution_count": 51,
          "metadata": {},
          "output_type": "execute_result"
        }
      ],
      "source": [
        "# Converts tensor to numpy array\n",
        "m_np = m.numpy()\n",
        "m_np"
      ]
    },
    {
      "cell_type": "code",
      "execution_count": null,
      "metadata": {
        "colab": {
          "base_uri": "https://localhost:8080/"
        },
        "id": "BHfSv9BB7jb2",
        "outputId": "083aea7f-27d5-4bb9-c0cb-4deb163d8dcc"
      },
      "outputs": [
        {
          "data": {
            "text/plain": [
              "array([[-1.,  5.,  3.,  7.],\n",
              "       [ 4.,  2.,  1.,  9.]], dtype=float32)"
            ]
          },
          "execution_count": 52,
          "metadata": {},
          "output_type": "execute_result"
        }
      ],
      "source": [
        "# In-place fill of column 0 and row 0 with value -1\n",
        "m_np[0, 0] = -1\n",
        "m_np"
      ]
    },
    {
      "cell_type": "code",
      "execution_count": null,
      "metadata": {
        "colab": {
          "base_uri": "https://localhost:8080/"
        },
        "id": "ICAeMZLU7jb3",
        "outputId": "fdf6c4e5-585d-4ec5-fa1a-3e13749f2a1a"
      },
      "outputs": [
        {
          "data": {
            "text/plain": [
              "tensor([[-1.,  5.,  3.,  7.],\n",
              "        [ 4.,  2.,  1.,  9.]])"
            ]
          },
          "execution_count": 53,
          "metadata": {},
          "output_type": "execute_result"
        }
      ],
      "source": [
        "m"
      ]
    },
    {
      "cell_type": "code",
      "execution_count": null,
      "metadata": {
        "colab": {
          "base_uri": "https://localhost:8080/"
        },
        "id": "CStd3ORV7jb3",
        "outputId": "99de7cda-811f-4ac3-8040-df49d1b364af"
      },
      "outputs": [
        {
          "name": "stdout",
          "output_type": "stream",
          "text": [
            "[0 1 2 3 4] tensor([0, 1, 2, 3, 4])\n"
          ]
        }
      ],
      "source": [
        "# Create a tensor of integers ranging from 0 to 4\n",
        "import numpy as np\n",
        "n_np = np.arange(5)\n",
        "n = torch.from_numpy(n_np)\n",
        "print(n_np, n)"
      ]
    },
    {
      "cell_type": "code",
      "execution_count": null,
      "metadata": {
        "colab": {
          "base_uri": "https://localhost:8080/"
        },
        "id": "3gGi0E-h7jb3",
        "outputId": "495d8df9-363a-4dbb-e6b7-6867610dbcf6"
      },
      "outputs": [
        {
          "data": {
            "text/plain": [
              "array([0, 2, 4, 6, 8])"
            ]
          },
          "execution_count": 55,
          "metadata": {},
          "output_type": "execute_result"
        }
      ],
      "source": [
        "# In-place multiplication of all elements by 2 for tensor n\n",
        "n.mul_(2)\n",
        "n_np"
      ]
    },
    {
      "cell_type": "markdown",
      "metadata": {
        "id": "9yGGuawb7jb3"
      },
      "source": [
        "## Using the GPU"
      ]
    },
    {
      "cell_type": "code",
      "execution_count": null,
      "metadata": {
        "colab": {
          "base_uri": "https://localhost:8080/",
          "height": 211
        },
        "id": "V3cSABmzDda2",
        "outputId": "fd736e08-6db2-44c5-cb09-5cfd09b96a7a"
      },
      "outputs": [],
      "source": [
        "# If this cell fails you need to change the runtime of your colab notebook to GPU\n",
        "# Go to Runtime -> Change Runtime Type and select GPU\n",
        "assert torch.cuda.is_available(), \"GPU is not enabled\"\n",
        "\n",
        "# use the first gpu available if possible\n",
        "device = torch.device(\"cuda:0\" if torch.cuda.is_available() else \"cpu\")"
      ]
    },
    {
      "cell_type": "code",
      "execution_count": null,
      "metadata": {
        "colab": {
          "base_uri": "https://localhost:8080/"
        },
        "id": "2rQvVYDMFIAW",
        "outputId": "e75c6797-9e6e-4ab8-bf4e-8f62a92432ae"
      },
      "outputs": [
        {
          "name": "stdout",
          "output_type": "stream",
          "text": [
            "tensor's device: cpu\n",
            "tensor's device: cuda:0\n"
          ]
        }
      ],
      "source": [
        "# Tensors can be moved between gpu and cpu memory\n",
        "\n",
        "tensor = torch.randn(5, 5) # create a 5x5 matrix filled with random numbers\n",
        "print(f\"tensor's device: {tensor.device}\") # by default tensors are stored in cpu memory (RAM)\n",
        "\n",
        "# Move your tensor to GPU device 0 if there is one (first GPU in the system)\n",
        "if torch.cuda.is_available():\n",
        "    tensor = tensor.to(device) # tensor.cuda() is an alternative although not recommended\n",
        "print(f\"tensor's device: {tensor.device}\")"
      ]
    },
    {
      "cell_type": "code",
      "execution_count": null,
      "metadata": {
        "colab": {
          "base_uri": "https://localhost:8080/",
          "height": 176
        },
        "id": "ccZpZ5xzZ8Sy",
        "outputId": "e613140f-96fb-48ae-bbe2-aef5d7aa5abc"
      },
      "outputs": [],
      "source": [
        "# A common mistake\n",
        "a = torch.randn(5, 2, device=device)\n",
        "b = torch.randn(1, 2)\n",
        "\n",
        "# This throws an exception, since you can't operate on tensors stored in\n",
        "# different devices, and the error message is pretty clear about that\n",
        "c = a * b"
      ]
    },
    {
      "cell_type": "markdown",
      "metadata": {
        "id": "x59Bo0QnEUOU"
      },
      "source": [
        "# Gradient Computation\n",
        "\n"
      ]
    },
    {
      "cell_type": "code",
      "execution_count": null,
      "metadata": {
        "colab": {
          "base_uri": "https://localhost:8080/"
        },
        "id": "H25IsxuRKlry",
        "outputId": "518e5cc4-342d-47e6-b549-6fc0a17d73b7"
      },
      "outputs": [
        {
          "name": "stdout",
          "output_type": "stream",
          "text": [
            "Gradient of a with respecto to L: tensor([36., 81.])\n"
          ]
        }
      ],
      "source": [
        "# Tensors also track the operations applied on them in order to differentiate them\n",
        "\n",
        "# setting requires_grad to true tells the autograd engine that we want to compute\n",
        "# gradients for this tensor\n",
        "a = torch.tensor([2., 3.], requires_grad=True)\n",
        "\n",
        "L = 3*a**3\n",
        "L.sum().backward()\n",
        "print(f\"Gradient of a with respecto to L: {a.grad}\")"
      ]
    },
    {
      "cell_type": "markdown",
      "metadata": {
        "id": "QnviODjmRdKC"
      },
      "source": [
        "Lets check if the computed gradients are correct:\n",
        "\n",
        "$\\frac{\\partial{L}}{\\partial{a}} = [9 * a_1^2, 9 * a_2^2]$\n",
        "\n",
        "$\\frac{\\partial{L}}{\\partial{a}} = [9 * 2^2, 9 * 3^2]$\n",
        "\n",
        "$\\frac{\\partial{L}}{\\partial{a}} = [36, 81]$\n",
        "\n",
        "As we can see the gradient vector matches the one computed by the autograd engine (no surprise there)"
      ]
    },
    {
      "cell_type": "code",
      "execution_count": null,
      "metadata": {
        "colab": {
          "base_uri": "https://localhost:8080/"
        },
        "id": "VMd6POwda8QO",
        "outputId": "b0c69356-1397-4901-d47f-3b425dc9d56c"
      },
      "outputs": [
        {
          "name": "stdout",
          "output_type": "stream",
          "text": [
            "tensor([24., 81.], grad_fn=<MulBackward0>)\n",
            "tensor(105., grad_fn=<SumBackward0>)\n"
          ]
        }
      ],
      "source": [
        "print(L)\n",
        "print(L.sum())"
      ]
    },
    {
      "cell_type": "code",
      "execution_count": null,
      "metadata": {
        "colab": {
          "base_uri": "https://localhost:8080/"
        },
        "id": "61qpDwtvU_E8",
        "outputId": "a8f0b237-03e7-41c0-e6bd-6da368e5d856"
      },
      "outputs": [
        {
          "name": "stdout",
          "output_type": "stream",
          "text": [
            "Does a require gradients? : False\n",
            "Does b require gradients?: True\n"
          ]
        }
      ],
      "source": [
        "# Notice that the output tensor of an operation will require gradients even\n",
        "# if only a single input tensor has requires_grad=True.\n",
        "\n",
        "x = torch.rand(5, 5)\n",
        "y = torch.rand(5, 5)\n",
        "z = torch.rand((5, 5), requires_grad=True)\n",
        "\n",
        "a = x + y\n",
        "print(f\"Does a require gradients? : {a.requires_grad}\")\n",
        "b = x + z\n",
        "print(f\"Does b require gradients?: {b.requires_grad}\")"
      ]
    },
    {
      "cell_type": "markdown",
      "metadata": {
        "id": "Wq_YCBR4yIYI"
      },
      "source": [
        "# Autograd with Pytorch: Repeat previous exercise"
      ]
    },
    {
      "cell_type": "markdown",
      "metadata": {
        "id": "RsBFjVXQO_jA"
      },
      "source": [
        "\n",
        "```\n",
        "# This is formatted as code\n",
        "```\n",
        "\n",
        "Let's repeat with PyTorch one of the gradient calculations what we already did before outselves (with our own auto-differentiation engine):"
      ]
    },
    {
      "cell_type": "code",
      "execution_count": null,
      "metadata": {
        "colab": {
          "base_uri": "https://localhost:8080/"
        },
        "id": "uN2Jff2gyIYI",
        "outputId": "f2ddf60d-a70e-4985-f0a6-95290feb435d"
      },
      "outputs": [
        {
          "name": "stdout",
          "output_type": "stream",
          "text": [
            "Result = tensor(28., grad_fn=<MulBackward0>)\n"
          ]
        }
      ],
      "source": [
        "a = torch.tensor(4.0, requires_grad = True)  # a = 4\n",
        "b = torch.tensor(3.0, requires_grad = True)  # b = 3\n",
        "c = a + b        # c = 4 + 3\n",
        "\n",
        "res = a * c      # res = a * c = 28\n",
        "\n",
        "print(\"Result =\", res)"
      ]
    },
    {
      "cell_type": "markdown",
      "metadata": {
        "id": "9hfDIYY5yIYJ"
      },
      "source": [
        "See the warning that the next cell will produce:"
      ]
    },
    {
      "cell_type": "code",
      "execution_count": null,
      "metadata": {
        "colab": {
          "base_uri": "https://localhost:8080/"
        },
        "id": "cwt2meXeyIYJ",
        "outputId": "1de7159d-848f-4afc-cfec-3c5a7575e419"
      },
      "outputs": [
        {
          "name": "stdout",
          "output_type": "stream",
          "text": [
            "The derivative of the result with respect to a is: tensor(11.)\n",
            "The derivative of the result with respect to b is: tensor(4.)\n",
            "The derivative of the result with respect to c is: None\n"
          ]
        },
        {
          "name": "stderr",
          "output_type": "stream",
          "text": [
            "<ipython-input-65-46824604471b>:8: UserWarning: The .grad attribute of a Tensor that is not a leaf Tensor is being accessed. Its .grad attribute won't be populated during autograd.backward(). If you indeed want the .grad field to be populated for a non-leaf Tensor, use .retain_grad() on the non-leaf Tensor. If you access the non-leaf Tensor by mistake, make sure you access the leaf Tensor instead. See github.com/pytorch/pytorch/pull/30531 for more informations. (Triggered internally at aten/src/ATen/core/TensorBody.h:489.)\n",
            "  print(\"The derivative of the result with respect to c is:\", c.grad)\n"
          ]
        }
      ],
      "source": [
        "# Call backprop on the result\n",
        "res.backward()\n",
        "\n",
        "# Now all variables should contain in their \"grad\" the derivative d(res) / d(variable)\n",
        "print(\"The derivative of the result with respect to a is:\", a.grad)\n",
        "print(\"The derivative of the result with respect to b is:\", b.grad)\n",
        "# Also for intermediate results\n",
        "print(\"The derivative of the result with respect to c is:\", c.grad)"
      ]
    },
    {
      "cell_type": "markdown",
      "metadata": {
        "id": "chEBBK46yIYJ"
      },
      "source": [
        "There are three different things to understand here. PyTorch by default only calculates gradients for the leaf nodes of the computation graph. To do that, all nodes that are necessary for the computation require their gradient to be computed, but the gradient is not maintained, they do not have a `grad` variable. We can ask PyTorch to create a `grad` variable and save the gradient in these intermediate nodes though, if for some reason we are interested in accessing it."
      ]
    },
    {
      "cell_type": "code",
      "execution_count": null,
      "metadata": {
        "colab": {
          "base_uri": "https://localhost:8080/"
        },
        "id": "GB3ybQNhyIYJ",
        "outputId": "b4db9332-9575-496b-cd49-62a8e88d185e"
      },
      "outputs": [
        {
          "data": {
            "text/plain": [
              "True"
            ]
          },
          "execution_count": 66,
          "metadata": {},
          "output_type": "execute_result"
        }
      ],
      "source": [
        "c.requires_grad"
      ]
    },
    {
      "cell_type": "code",
      "execution_count": null,
      "metadata": {
        "colab": {
          "base_uri": "https://localhost:8080/"
        },
        "id": "XO5g_uAXyIYK",
        "outputId": "9348c5b0-4fdf-49eb-a52d-af5e9d632ecb"
      },
      "outputs": [
        {
          "data": {
            "text/plain": [
              "False"
            ]
          },
          "execution_count": 67,
          "metadata": {},
          "output_type": "execute_result"
        }
      ],
      "source": [
        "c.retains_grad"
      ]
    },
    {
      "cell_type": "code",
      "execution_count": null,
      "metadata": {
        "colab": {
          "base_uri": "https://localhost:8080/"
        },
        "id": "_xyteFnUyIYK",
        "outputId": "ca18d6ad-306e-4084-af5e-bc09e72147a0"
      },
      "outputs": [
        {
          "data": {
            "text/plain": [
              "False"
            ]
          },
          "execution_count": 68,
          "metadata": {},
          "output_type": "execute_result"
        }
      ],
      "source": [
        "c.is_leaf"
      ]
    },
    {
      "cell_type": "code",
      "execution_count": null,
      "metadata": {
        "colab": {
          "base_uri": "https://localhost:8080/"
        },
        "id": "QxPwYuI3yIYK",
        "outputId": "00b70909-66f4-4d3b-fd6c-d0e1ccc32342"
      },
      "outputs": [
        {
          "name": "stdout",
          "output_type": "stream",
          "text": [
            "Requires Grad: True\tRetains Grad: True\tIs leaf: False\n"
          ]
        }
      ],
      "source": [
        "c.retain_grad()\n",
        "\n",
        "print(f\"Requires Grad: {c.requires_grad}\\tRetains Grad: {c.retains_grad}\\tIs leaf: {c.is_leaf}\")"
      ]
    },
    {
      "cell_type": "code",
      "execution_count": null,
      "metadata": {
        "colab": {
          "base_uri": "https://localhost:8080/"
        },
        "id": "b1uxcO-1yIYK",
        "outputId": "95b3f017-7c7f-420d-9f11-40a2e9dc63f9"
      },
      "outputs": [
        {
          "name": "stdout",
          "output_type": "stream",
          "text": [
            "Result = tensor(28., grad_fn=<MulBackward0>)\n",
            "The derivative of the result with respect to a is: tensor(11.)\n",
            "The derivative of the result with respect to b is: tensor(4.)\n",
            "The derivative of the result with respect to c is: tensor(4.)\n"
          ]
        }
      ],
      "source": [
        "a = torch.tensor(4.0, requires_grad = True)  # a = 4\n",
        "b = torch.tensor(3.0, requires_grad = True)  # b = 3\n",
        "c = a + b        # c = 4 + 3\n",
        "c.retain_grad()\n",
        "\n",
        "res = a * c      # res = a * c = 28\n",
        "\n",
        "print(\"Result =\", res)\n",
        "\n",
        "# Call backprop on the result\n",
        "res.backward()\n",
        "\n",
        "# Now all variables should contain in their \"grad\" the derivative d(res) / d(variable)\n",
        "print(\"The derivative of the result with respect to a is:\", a.grad)\n",
        "print(\"The derivative of the result with respect to b is:\", b.grad)\n",
        "# Also for intermediate results\n",
        "print(\"The derivative of the result with respect to c is:\", c.grad)"
      ]
    },
    {
      "cell_type": "markdown",
      "metadata": {
        "id": "o-_70bB17jb4"
      },
      "source": [
        "## Much more\n",
        "\n",
        "There's definitely much more, but this was the basics about `Tensor`s fun.\n",
        "\n",
        "*Torch* full API can be found [here](https://pytorch.org/docs/stable/index.html).\n",
        "You'll find 100+ `Tensor` operations, including transposing, indexing, slicing, mathematical operations, linear algebra, random numbers, etc are described."
      ]
    },
    {
      "cell_type": "code",
      "execution_count": null,
      "metadata": {
        "colab": {
          "base_uri": "https://localhost:8080/"
        },
        "id": "5aGsG2MMGebg",
        "outputId": "dcfa8dea-a164-484f-eda6-e76929711d47"
      },
      "outputs": [
        {
          "name": "stdout",
          "output_type": "stream",
          "text": [
            "tensor([[-0.1468,  0.7861,  0.9468, -1.1143,  1.6908]])\n",
            "tensor([[-0.8948, -0.3556,  1.2324,  0.1382, -1.6822]])\n",
            "tensor([[0.3177]])\n",
            "tensor([[ 0.4490,  0.0381,  1.4845,  0.1637, -2.5266]])\n",
            "torch.Size([1, 5]) torch.Size([1, 1])\n"
          ]
        }
      ],
      "source": [
        "### Generate some data\n",
        "torch.manual_seed(7) # Set the random seed so things are predictable\n",
        "\n",
        "# Features are 5 random normal variables\n",
        "features = torch.randn((1, 5))\n",
        "print(features)\n",
        "# True weights for our data, random normal variables again\n",
        "weights = torch.randn_like(features)\n",
        "print(weights)\n",
        "# and a true bias term\n",
        "bias = torch.randn((1, 1))\n",
        "print(bias)\n",
        "fts = torch.mul(features, weights)\n",
        "print(fts + bias)\n",
        "print(fts.shape, bias.shape)"
      ]
    },
    {
      "cell_type": "markdown",
      "metadata": {
        "id": "R8N-hhzmQZaA"
      },
      "source": [
        "\n",
        "\n",
        "<font color=\"blue\">Let's answer the following questions about the cell below</font>\n",
        "\n",
        "1. Does the value of ```t``` change? Why?\n",
        "2. Does the shape of ```t``` change? Why?\n",
        "3. Explain, in your own words. What is the stride of a tensor, why is it convenient to have them?\n",
        "4.  Pick a mathematical operation like cosine or square root (not those though 🙂). Can you find the correspoding function in the [torch library](https://https://pytorch.org/docs/stable/torch.html#pointwise-ops).\n",
        "5. Apply the function element-wise to ```a```.\n",
        "6. Is there a version of the function that operates in place? Does it return an error? Why? How can it be fixed?\n",
        "7. Run the same function on the GPU. Do you notice any difference in runtime? If not, why do you think that is?"
      ]
    },
    {
      "cell_type": "code",
      "execution_count": null,
      "metadata": {
        "colab": {
          "base_uri": "https://localhost:8080/"
        },
        "id": "__SC70eiXYn1",
        "outputId": "41e0c4ff-c9fe-48ec-f396-514f837f741f"
      },
      "outputs": [
        {
          "data": {
            "text/plain": [
              "tensor([[ 0,  2,  4],\n",
              "        [ 6,  8, 10],\n",
              "        [12, 14, 16]])"
            ]
          },
          "execution_count": 35,
          "metadata": {},
          "output_type": "execute_result"
        }
      ],
      "source": [
        "t = torch.tensor(list(range(9)))\n",
        "\n",
        "a = t.view(3, 3)\n",
        "a.mul_(2)"
      ]
    },
    {
      "cell_type": "code",
      "execution_count": null,
      "metadata": {
        "colab": {
          "base_uri": "https://localhost:8080/"
        },
        "id": "45M5iX3oyIYZ",
        "outputId": "1b2d1661-db63-4f5e-9e05-8242fad63dc4"
      },
      "outputs": [
        {
          "data": {
            "text/plain": [
              "tensor([ 0,  2,  4,  6,  8, 10, 12, 14, 16])"
            ]
          },
          "execution_count": 36,
          "metadata": {},
          "output_type": "execute_result"
        }
      ],
      "source": [
        "t"
      ]
    },
    {
      "cell_type": "markdown",
      "metadata": {
        "id": "Ss5klr36HYZa"
      },
      "source": [
        "1) The value of t changes because a and t have the same underlying data storage and mul_ is an in-place operation\n",
        "\n",
        "2) The shape of t does not change because returns a new tensor with a new shape but the new tensor still shares the underlying data with the original tensor\n",
        "\n",
        "3) The stride of a tensor is a 1D Vector that contains the stepts that are necessary to take to move from an element to another in a specified dimension. For example, given the tensor t=torch.Size([2, 3, 4]) with the stride (12, 4, 1) it will take 12 (3x4) \"steps\" to move from emelent t[0][i][j] to t[1][i][j], or it will take 4 \"steps\" to move from t[i][1][j] to t[i][2][j] and just one \"step\" to t[i][j][0] to t[i][j][1].\n",
        "\n",
        "Strides can be useful when you want to acces an element of the storage of a tensor (where elements are represented as a list) given the index of the element. For example, given the ind = [1, 2, 3], you can acces the element t[1][2][3] with storage[res], where res = ind[0]*stride[0] + ind[1]*stride[1] + ind[2]*stride[2]"
      ]
    },
    {
      "cell_type": "code",
      "execution_count": null,
      "metadata": {
        "colab": {
          "base_uri": "https://localhost:8080/"
        },
        "id": "wMmLl9YyHXpn",
        "outputId": "018f8bb8-837c-45bf-80a2-5a2015da766c"
      },
      "outputs": [
        {
          "name": "stdout",
          "output_type": "stream",
          "text": [
            "tensor([[0.0000, 1.4142, 2.0000],\n",
            "        [2.4495, 2.8284, 3.1623],\n",
            "        [3.4641, 3.7417, 4.0000]])\n"
          ]
        }
      ],
      "source": [
        "#ex4\n",
        "b = torch.sqrt(a)\n",
        "print(b)"
      ]
    },
    {
      "cell_type": "code",
      "execution_count": null,
      "metadata": {
        "colab": {
          "base_uri": "https://localhost:8080/"
        },
        "id": "W4qWasgiKqC5",
        "outputId": "c4ca0d18-926e-4bef-d1a8-398e22d6e7b7"
      },
      "outputs": [
        {
          "data": {
            "text/plain": [
              "tensor([[0.0000, 1.4142, 2.0000],\n",
              "        [2.4495, 2.8284, 3.1623],\n",
              "        [3.4641, 3.7417, 4.0000]])"
            ]
          },
          "execution_count": 38,
          "metadata": {},
          "output_type": "execute_result"
        }
      ],
      "source": [
        "#ex5\n",
        "a.sqrt()"
      ]
    },
    {
      "cell_type": "code",
      "execution_count": null,
      "metadata": {
        "colab": {
          "base_uri": "https://localhost:8080/"
        },
        "id": "beVXqCw9HhNE",
        "outputId": "04246d79-f631-4c4d-f8df-7e0204d65e30"
      },
      "outputs": [
        {
          "name": "stdout",
          "output_type": "stream",
          "text": [
            "tensor([[0.0000, 1.4142, 2.0000],\n",
            "        [2.4495, 2.8284, 3.1623],\n",
            "        [3.4641, 3.7417, 4.0000]])\n"
          ]
        }
      ],
      "source": [
        "#ex6\n",
        "# The data of the tensor needs to be converted to float in order to apply .sqrt()\n",
        "a = a.float()\n",
        "a.sqrt_()\n",
        "print(a)\n"
      ]
    },
    {
      "cell_type": "code",
      "execution_count": null,
      "metadata": {
        "id": "keH3ClOEHhIg"
      },
      "outputs": [],
      "source": [
        "#ex7\n",
        "# There is no significat difference in runtime because the size of the tensor is too small and\n",
        "# The operation is not too complex"
      ]
    }
  ],
  "metadata": {
    "accelerator": "GPU",
    "colab": {
      "gpuType": "T4",
      "provenance": []
    },
    "kernelspec": {
      "display_name": "Python 3",
      "name": "python3"
    },
    "language_info": {
      "codemirror_mode": {
        "name": "ipython",
        "version": 3
      },
      "file_extension": ".py",
      "mimetype": "text/x-python",
      "name": "python",
      "nbconvert_exporter": "python",
      "pygments_lexer": "ipython3",
      "version": "3.12.1"
    }
  },
  "nbformat": 4,
  "nbformat_minor": 0
}
