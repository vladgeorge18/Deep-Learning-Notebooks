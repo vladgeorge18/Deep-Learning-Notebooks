{
  "cells": [
    {
      "cell_type": "markdown",
      "metadata": {
        "id": "WBYc8KP2ltYI"
      },
      "source": [
        "# Creating our own Auto Differentiation (AutoGrad) framework\n",
        "\n",
        "In this practical exercise we will build our own, very simple, Auto-differentiation (or AutoGrad) framework."
      ]
    },
    {
      "cell_type": "markdown",
      "metadata": {
        "id": "UKePkPWLltYK"
      },
      "source": [
        "## Coding the framework\n",
        "\n",
        "### Step 1: Define a class for our variables"
      ]
    },
    {
      "cell_type": "markdown",
      "metadata": {
        "id": "pq9vgu7CltYL"
      },
      "source": [
        "The key idea is that we will define our own class of `Variable` which is basically the same as a scalar (a number). So our class is created by passing it a `value`, and it stores this value internally.\n",
        "\n",
        "But apart from being a placeholder for a number, we also want to keep track of the operation that created every `Variable`.\n",
        "\n",
        "For example, if a variable $c$ is the result of the addition of two variables $a$ and $b$: $c = a + b$, then we would say that $a$ and $b$ are \"parent\" variables of $c$, and $c$ is their \"child\". The way $c$ was created was by adding these two parent variables together. A variable created directly (defined by the user, not resulting by any operation over existing variables) would have no parents.\n",
        "\n",
        "So apart from the value of the `Variable`, we will also have to keep track of its parents, and on how each of them \"contributes\" to the value of the `Variable` - this is described by the local derivative associated with each of the parents, that tells us how a change in the value of each of the parent variables translates into a change in the value of the child variable.\n",
        "\n",
        "This is important in order to implement our backwards pass. During the backwards pass each parent defines a \"route\" through which the gradients coming into our variable will have to flow through.\n",
        "\n",
        "So we will define a list of `gradRoutes` that will contain the list of parent variables and their corresponding local derivatives. A `Variable` created directly (not resulting by any operation over existing variables) will have an empty `gradRoutes`.\n",
        "\n",
        "Finally, we want each `Variable` of ours to keep track of the value of gradient of the quantity we are interested in (usually the loss) with respect to the `Variable` itself. We will create a placeholder for that as well, called `grad`. As seen in theory, this placeholder will accummulate the gradients that are backpropagated from the children of this variable when we implement the backpropagation algorithm. So we will initialise it to zero."
      ]
    },
    {
      "cell_type": "code",
      "execution_count": 70,
      "metadata": {
        "id": "8rCwUuFfltYL"
      },
      "outputs": [],
      "source": [
        "import numpy as np"
      ]
    },
    {
      "cell_type": "code",
      "execution_count": 71,
      "metadata": {
        "id": "sb8XwWzUltYM"
      },
      "outputs": [],
      "source": [
        "class Variable: #Simple variable. These are the leafs of our tree, they can request to have a gradient calculated, or not\n",
        "    def __init__(self, value):\n",
        "        self.value = value\n",
        "        self.gradRoutes = [] # A variable by default has no grad Routes (was not created by anything, just defined)\n",
        "        self.grad = 0.0\n",
        "\n",
        "    def __str__(self):\n",
        "        return 'Value: {self.value}'.format(self=self)"
      ]
    },
    {
      "cell_type": "markdown",
      "metadata": {
        "id": "DOczaTROltYN"
      },
      "source": [
        "Apart from the `__init__()` function which stores the value passed to our class and initialises the `gradRoutes` and `grad` member variables, we have also overloaded the function that python uses to convert a class into a string representation: `__str__()`. This will allow us to print our class.\n",
        "\n",
        "We cannot do much yet with this class, apart from storing values into our variables and printing them out. Let's try this out."
      ]
    },
    {
      "cell_type": "code",
      "execution_count": 72,
      "metadata": {
        "colab": {
          "base_uri": "https://localhost:8080/"
        },
        "id": "xH3GtzcCltYN",
        "outputId": "cfe3087b-41b2-458d-bee9-eb227ed5dd1a"
      },
      "outputs": [
        {
          "name": "stdout",
          "output_type": "stream",
          "text": [
            "Value: 4.3\n",
            "Value: 5.2\n"
          ]
        }
      ],
      "source": [
        "a = Variable(4.3)\n",
        "b = Variable(5.2)\n",
        "print(a)\n",
        "print(b)"
      ]
    },
    {
      "cell_type": "markdown",
      "metadata": {
        "id": "RfzixzFIltYO"
      },
      "source": [
        "### Step 2: Define operations over our variables"
      ]
    },
    {
      "cell_type": "markdown",
      "metadata": {
        "id": "mciYSG0gltYO"
      },
      "source": [
        "The next step would be to implement operations on our variables. Let's first define the operations for addition and multiplication.\n",
        "\n",
        "These will be functions that take two `variables` as input and produce a new (child) `variable` with a value equal to the sum or the product of the two inputs. Apart from the forward pass though, we should keep track of how this new `variable` was created: the two parent `variables`, and their corresponding local derivatives. In our code we put these two things in a tuple and save them in the list of `gradRoutes`."
      ]
    },
    {
      "cell_type": "code",
      "execution_count": 73,
      "metadata": {
        "id": "v75ab61eltYO"
      },
      "outputs": [],
      "source": [
        "def vAdd(A: Variable, B: Variable): # Addition\n",
        "    if not isinstance(A,Variable):\n",
        "      A = Variable(A)\n",
        "    if not isinstance(B,Variable):\n",
        "      B = Variable(B)\n",
        "    result = Variable(A.value + B.value) # Create a new Variable to store the result, and pass it the value = a + b\n",
        "\n",
        "    #keep track of the parent variables, and of the local derivative associated with each one\n",
        "    result.gradRoutes.append((A, 1)) # dresult / dA = 1\n",
        "    result.gradRoutes.append((B, 1)) # dresult / dB = 1\n",
        "\n",
        "    return result\n",
        "\n",
        "def vMul(A: Variable, B: Variable): # Addition\n",
        "    if not isinstance(A,Variable):\n",
        "      A = Variable(A)\n",
        "    if not isinstance(B,Variable):\n",
        "      B = Variable(B)\n",
        "    result = Variable(A.value * B.value) # Create a new Variable to store the result, and pass it the value = a * b\n",
        "\n",
        "    #keep track of the parent variables, and of the local derivative associated with each one\n",
        "    result.gradRoutes.append((A, B.value)) # dresult / dA = B\n",
        "    result.gradRoutes.append((B, A.value)) # dresult / dB = A\n",
        "\n",
        "    return result"
      ]
    },
    {
      "cell_type": "markdown",
      "metadata": {
        "id": "DgCd9YDZltYP"
      },
      "source": [
        "So for example to calculate $d = (a + b) * c$ we first need to calculate $(a + b)$ and then mutiply the result with $c$"
      ]
    },
    {
      "cell_type": "code",
      "execution_count": 74,
      "metadata": {
        "colab": {
          "base_uri": "https://localhost:8080/"
        },
        "id": "LyFIDwORltYP",
        "outputId": "98985ccb-d1f2-4abf-bfaf-3a70c7d6fc65"
      },
      "outputs": [
        {
          "name": "stdout",
          "output_type": "stream",
          "text": [
            "Value: 20\n"
          ]
        }
      ],
      "source": [
        "a = Variable(2) # a = 2\n",
        "b = Variable(3) # b = 3\n",
        "c = Variable(4) # c = 4\n",
        "\n",
        "#d = (a + b) * c = 20\n",
        "d = vMul(vAdd(a, b), c)\n",
        "\n",
        "print(d)"
      ]
    },
    {
      "cell_type": "markdown",
      "metadata": {
        "id": "cK-zRXdqltYP"
      },
      "source": [
        "### Step 3: Implement the backpropagation function"
      ]
    },
    {
      "cell_type": "markdown",
      "metadata": {
        "id": "F-W57V_LltYP"
      },
      "source": [
        "The final step is to implement the backpropagation function. This starts with a child `variable`, and backpropagates gradients through the routes recursively. It uses the two rules that we saw in theory:\n",
        "\n",
        "- Accumulate the incoming gradients that arrive to a `variable`. Each of the incoming gradients describe a different way in which the `variable` affects the quantity of interest, so this sum will be the final gradient for the `variable`\n",
        "- Multiply every incoming gradient with each of the local derivatives corresponding to parent `variables` (this would be the application of the chain rule), and continue the backpropagation through the corresponding route (for each of the parent `variables`)\n",
        "\n",
        "We update the `Variable` class accordingly. We also update the `__str___()` function to include also gradient information."
      ]
    },
    {
      "cell_type": "code",
      "execution_count": 75,
      "metadata": {
        "id": "NoAwbPgWltYQ"
      },
      "outputs": [],
      "source": [
        "class Variable: #Simple variable. These are the leafs of our tree, they can request to have a gradient calculated, or not\n",
        "    def __init__(self, value):\n",
        "        self.value = value\n",
        "        self.gradRoutes = [] # A variable by default has no grad Routes (was not created by anything, just defined)\n",
        "        self.grad = 0.0\n",
        "\n",
        "    def backProp(self, route_val = 1.0):\n",
        "        # Add together the incoming gradients from the different routes that lead to a node - this will be the final gradient for the node\n",
        "        self.grad += route_val\n",
        "\n",
        "        # For every parent variable and corresponding local derivative value that we have in the gradRoutes, continue with the gradient calculation\n",
        "        for variable, local_derivative_value in self.gradRoutes:\n",
        "            # Multiply the incoming gradient with the local derivatives corresponding the parent variable, and continue the backpropagation\n",
        "            variable.backProp(local_derivative_value * route_val)\n",
        "\n",
        "    def __str__(self):\n",
        "        return 'Value: {self.value}, Gradient: {self.grad}'.format(self=self)"
      ]
    },
    {
      "cell_type": "markdown",
      "metadata": {
        "id": "IxKdNRgnltYQ"
      },
      "source": [
        "<font color=blue>**Question:** Why did we set the default value of route_val equal to 1.0?</font>"
      ]
    },
    {
      "cell_type": "markdown",
      "metadata": {
        "id": "RLlfqr2FltYQ"
      },
      "source": [
        "---\n",
        "\n",
        "*Answer*\n",
        "We know from theory that the child node (the node where backpropagation starts) should be derivated with the respect of itself so this concludes to setting the value to 1.0\n",
        "\n",
        "\n",
        "---\n"
      ]
    },
    {
      "cell_type": "markdown",
      "metadata": {
        "id": "9g92QJByltYQ"
      },
      "source": [
        "This should be all. If we want to calculate the derivative of the result with respect to any of the variables that participated in the calculation, we just need to call backprop on the result, and then read the derivatives out."
      ]
    },
    {
      "cell_type": "code",
      "execution_count": 76,
      "metadata": {
        "colab": {
          "base_uri": "https://localhost:8080/"
        },
        "id": "4MzZx41CltYR",
        "outputId": "475800d0-ce8e-48b6-c6bb-4570932527f4"
      },
      "outputs": [
        {
          "name": "stdout",
          "output_type": "stream",
          "text": [
            "Result = 20\n",
            "The derivative of the result with respect to a is: 4.0\n",
            "The derivative of the result with respect to b is: 4.0\n",
            "The derivative of the result with respect to c is: 5.0\n"
          ]
        }
      ],
      "source": [
        "a = Variable(2)           # a = 2\n",
        "b = Variable(3)           # b = 3\n",
        "c = Variable(4)           # c = 4\n",
        "res = vMul(vAdd(a, b), c) # res = (a + b) * c = 20\n",
        "\n",
        "print(\"Result =\", res.value)\n",
        "\n",
        "# Call backprop on the result\n",
        "res.backProp()\n",
        "\n",
        "# Now all variables should contain in their \"grad\" the derivative d(res) / d(variable)\n",
        "print(\"The derivative of the result with respect to a is:\", a.grad)\n",
        "print(\"The derivative of the result with respect to b is:\", b.grad)\n",
        "print(\"The derivative of the result with respect to c is:\", c.grad)"
      ]
    },
    {
      "cell_type": "markdown",
      "metadata": {
        "id": "CpnBaiCLltYR"
      },
      "source": [
        "In the following example, variable $a$ affects the result through two different routes"
      ]
    },
    {
      "cell_type": "code",
      "execution_count": 77,
      "metadata": {
        "colab": {
          "base_uri": "https://localhost:8080/"
        },
        "id": "BMk3a_e1ltYR",
        "outputId": "c7e7d26a-984d-4b4f-989a-bc7881f593bc"
      },
      "outputs": [
        {
          "name": "stdout",
          "output_type": "stream",
          "text": [
            "Result = 28\n",
            "The derivative of the result with respect to a is: 11.0\n",
            "The derivative of the result with respect to b is: 4.0\n",
            "The derivative of the result with respect to c is: 4.0\n"
          ]
        }
      ],
      "source": [
        "a = Variable(4)  # a = 4\n",
        "b = Variable(3)  # b = 3\n",
        "c = vAdd(a, b)   # c = 4 + 3\n",
        "res = vMul(a, c) # res = a * c = 28\n",
        "\n",
        "print(\"Result =\", res.value)\n",
        "\n",
        "# Call backprop on the result\n",
        "res.backProp()\n",
        "\n",
        "# Now all variables should contain in their \"grad\" the derivative d(res) / d(variable)\n",
        "print(\"The derivative of the result with respect to a is:\", a.grad)\n",
        "print(\"The derivative of the result with respect to b is:\", b.grad)\n",
        "# Also for intermediate results\n",
        "print(\"The derivative of the result with respect to c is:\", c.grad)"
      ]
    },
    {
      "cell_type": "markdown",
      "metadata": {
        "id": "VZeYcl0vltYR"
      },
      "source": [
        "<font color=blue>Use this setup to calculate the derivative of $c$ with respect to $a$ and $b$?</font>"
      ]
    },
    {
      "cell_type": "code",
      "execution_count": 78,
      "metadata": {
        "colab": {
          "base_uri": "https://localhost:8080/"
        },
        "id": "mEO-njUBltYS",
        "outputId": "fb21e329-b1d3-4fbe-c9bf-0ba49af6be1d"
      },
      "outputs": [
        {
          "name": "stdout",
          "output_type": "stream",
          "text": [
            "The derivative of c with respect to a is: 1.0\n",
            "The derivative of c with respect to b is: 1.0\n"
          ]
        }
      ],
      "source": [
        "a.grad = b.grad = c.grad = 0\n",
        "c.backProp()\n",
        "print(\"The derivative of c with respect to a is:\", a.grad)\n",
        "print(\"The derivative of c with respect to b is:\", b.grad)\n",
        "\n"
      ]
    },
    {
      "cell_type": "markdown",
      "metadata": {
        "id": "NRNrw3xIltYS"
      },
      "source": [
        "## Final touches\n",
        "\n",
        "If you understood how this works up to here, then you should be already good to go. But since we want to use our auto grad to do some practical work, we will continue working on it a bit, to make it a bit more usable and complete it with more operations. Many of the subsequent steps are quite \"engineering\" in nature."
      ]
    },
    {
      "cell_type": "markdown",
      "metadata": {
        "id": "U-KiGcpTltYS"
      },
      "source": [
        "### Improving usability: overloading operators"
      ]
    },
    {
      "cell_type": "markdown",
      "metadata": {
        "id": "jV0dEf3lltYS"
      },
      "source": [
        "Of course this is still highly incomplete, very inefficient and not very usable. Lets first improve a usability issue. Instead of having to call different functions for the operations like `res = vMul(a, c)`, we would like to be able to directly write them down like `res = a * b`. To achieve this, we should overload [Python's special functions for operator overloading](https://docs.python.org/3/reference/datamodel.html#emulating-numeric-types).\n",
        "\n",
        "Here's how to do this for the addition and multiplication."
      ]
    },
    {
      "cell_type": "code",
      "execution_count": 79,
      "metadata": {
        "id": "LiTwpcWkltYS"
      },
      "outputs": [],
      "source": [
        "class Variable: #Simple variable. These are the leafs of our tree, they can request to have a gradient calculated, or not\n",
        "    def __init__(self, value):\n",
        "        self.value = value\n",
        "        self.gradRoutes = [] # A variable by default has no grad Routes (was not created by anything, just defined)\n",
        "        self.grad = 0.0\n",
        "\n",
        "    def backProp(self, route_val = 1.0):\n",
        "        # Add together the incoming gradients from the different routes that lead to a node - this will be the final gradient for the node\n",
        "        self.grad += route_val\n",
        "\n",
        "        # For every parent variable and corresponding local derivative value that we have in the gradRoutes, continue with the gradient calculation\n",
        "        for variable, local_derivative_value in self.gradRoutes:\n",
        "            # Multiply the incoming gradient with the local derivatives corresponding the parent variable, and continue the backpropagation\n",
        "            variable.backProp(local_derivative_value * route_val)\n",
        "\n",
        "    def __add__(self, b):\n",
        "        return vAdd(self, b)\n",
        "\n",
        "    def __mul__(self, b):\n",
        "        return vMul(self, b)\n",
        "\n",
        "    def __str__(self):\n",
        "        return 'Value: {self.value}, Gradient: {self.grad}'.format(self=self)"
      ]
    },
    {
      "cell_type": "code",
      "execution_count": 80,
      "metadata": {
        "colab": {
          "base_uri": "https://localhost:8080/"
        },
        "id": "7RZ9bmniltYT",
        "outputId": "62f95c18-0dc5-4327-fd4a-640906b6dd73"
      },
      "outputs": [
        {
          "name": "stdout",
          "output_type": "stream",
          "text": [
            "Result = 28\n",
            "The derivative of the result with respect to a is: 11.0\n",
            "The derivative of the result with respect to b is: 4.0\n",
            "The derivative of the result with respect to c is: 4.0\n"
          ]
        }
      ],
      "source": [
        "a = Variable(4)  # a = 4\n",
        "b = Variable(3)  # b = 3\n",
        "c = a + b        # c = 4 + 3\n",
        "res = a * c      # res = a * c = 28\n",
        "\n",
        "print(\"Result =\", res.value)\n",
        "\n",
        "# Call backprop on the result\n",
        "res.backProp()\n",
        "\n",
        "# Now all variables should contain in their \"grad\" the derivative d(res) / d(variable)\n",
        "print(\"The derivative of the result with respect to a is:\", a.grad)\n",
        "print(\"The derivative of the result with respect to b is:\", b.grad)\n",
        "# Also for intermediate results\n",
        "print(\"The derivative of the result with respect to c is:\", b.grad)"
      ]
    },
    {
      "cell_type": "markdown",
      "metadata": {
        "id": "1L2yYvFQltYT"
      },
      "source": [
        "### Zeroing gradients"
      ]
    },
    {
      "cell_type": "markdown",
      "metadata": {
        "id": "1ZllSDRPltYT"
      },
      "source": [
        "A last thing to note is that once we call `backProp`, our gradients are calculated and our variables are now \"dirty\" in the sense that if we call backprop again, the new result will be added to the previous one:"
      ]
    },
    {
      "cell_type": "code",
      "execution_count": 81,
      "metadata": {
        "colab": {
          "base_uri": "https://localhost:8080/"
        },
        "id": "I-i-QBmCltYT",
        "outputId": "5161e4bf-f99e-40ce-d382-b67a370c670e"
      },
      "outputs": [
        {
          "name": "stdout",
          "output_type": "stream",
          "text": [
            "The derivative of the result with respect to a is: 11.0\n",
            "The derivative of the result with respect to b is: 4.0\n",
            "Second time\n",
            "The derivative of the result with respect to a is: 22.0\n",
            "The derivative of the result with respect to b is: 8.0\n"
          ]
        }
      ],
      "source": [
        "a = Variable(4)   # a = 4\n",
        "b = Variable(3)   # b = 3\n",
        "res = (a + b) * a # res = a * c = 28\n",
        "\n",
        "# Call backprop on the result\n",
        "res.backProp()\n",
        "print(\"The derivative of the result with respect to a is:\", a.grad)\n",
        "print(\"The derivative of the result with respect to b is:\", b.grad)\n",
        "\n",
        "# Call backprop on the result once more\n",
        "print(\"Second time\")\n",
        "res.backProp()\n",
        "print(\"The derivative of the result with respect to a is:\", a.grad)\n",
        "print(\"The derivative of the result with respect to b is:\", b.grad)"
      ]
    },
    {
      "cell_type": "markdown",
      "metadata": {
        "id": "zn0n9104ltYU"
      },
      "source": [
        "This will actually turn out to be quite useful, e.g. when we want to accumulate weight gradients over different samples in our learning loops (see next week's notebook), but we need a way to control it.\n",
        "\n",
        "To avoid this, we should reset the gradients to zero before we call `backProp` again. We can do it one by one for every variable, but we will also implement a function that does this recursively from the child node we backProped, all the way to the parents."
      ]
    },
    {
      "cell_type": "code",
      "execution_count": 82,
      "metadata": {
        "id": "_RhZHrzxltYU"
      },
      "outputs": [],
      "source": [
        "class Variable: #Simple variable. These are the leafs of our tree, they can request to have a gradient calculated, or not\n",
        "    def __init__(self, value):\n",
        "        self.value = value\n",
        "        self.gradRoutes = [] # A variable by default has no grad Routes (was not created by anything, just defined)\n",
        "        self.grad = 0.0\n",
        "\n",
        "    def backProp(self, route_val = 1.0):\n",
        "        # Add together the incoming gradients from the different routes that lead to a node - this will be the final gradient for the node\n",
        "        self.grad += route_val\n",
        "\n",
        "        # For every parent variable and corresponding local derivative value that we have in the gradRoutes, continue with the gradient calculation\n",
        "        for variable, local_derivative_value in self.gradRoutes:\n",
        "            # Multiply the incoming gradient with the local derivatives corresponding the parent variable, and continue the backpropagation\n",
        "            variable.backProp(local_derivative_value * route_val)\n",
        "\n",
        "    def zeroGrad(self):\n",
        "        self.grad = 0.0\n",
        "\n",
        "    def zeroGradsRecursively(self):\n",
        "        self.zeroGrad()\n",
        "        for variable, _ in self.gradRoutes:\n",
        "            variable.zeroGradsRecursively()\n",
        "\n",
        "    def __add__(self, b):\n",
        "        return vAdd(self, b)\n",
        "\n",
        "    def __mul__(self, b):\n",
        "        return vMul(self, b)\n",
        "\n",
        "    def __str__(self):\n",
        "        return 'Value: {self.value}, Gradient: {self.grad}'.format(self=self)"
      ]
    },
    {
      "cell_type": "code",
      "execution_count": 83,
      "metadata": {
        "colab": {
          "base_uri": "https://localhost:8080/"
        },
        "id": "dTQajdkxltYU",
        "outputId": "3157c597-0706-441f-f6b0-9fd3a0667d5a"
      },
      "outputs": [
        {
          "name": "stdout",
          "output_type": "stream",
          "text": [
            "The derivative of the result with respect to a is: 11.0\n",
            "The derivative of the result with respect to b is: 4.0\n",
            "Second time\n",
            "The derivative of the result with respect to a is: 11.0\n",
            "The derivative of the result with respect to b is: 4.0\n"
          ]
        }
      ],
      "source": [
        "a = Variable(4)   # a = 4\n",
        "b = Variable(3)   # b = 3\n",
        "res = (a + b) * a # res = a * c = 28\n",
        "\n",
        "# Call backprop on the result\n",
        "res.backProp()\n",
        "print(\"The derivative of the result with respect to a is:\", a.grad)\n",
        "print(\"The derivative of the result with respect to b is:\", b.grad)\n",
        "\n",
        "# Zero gradients\n",
        "res.zeroGradsRecursively()\n",
        "\n",
        "# Call backprop on the result once more\n",
        "print(\"Second time\")\n",
        "res.backProp()\n",
        "print(\"The derivative of the result with respect to a is:\", a.grad)\n",
        "print(\"The derivative of the result with respect to b is:\", b.grad)"
      ]
    },
    {
      "cell_type": "markdown",
      "metadata": {
        "id": "79DopW0WltYV"
      },
      "source": [
        "## More Improvements"
      ]
    },
    {
      "cell_type": "markdown",
      "metadata": {
        "id": "WXdaqOhgltYV"
      },
      "source": [
        "There are number of ways we can improve our simple network. The most important is probably being able to work with vectors and matrices - we will not implement this ourselves though, next week we will see a framework that does this. For the time being, we will focus on other, simpler improvements."
      ]
    },
    {
      "cell_type": "markdown",
      "metadata": {
        "id": "F8SS3_3NltYV"
      },
      "source": [
        "---\n",
        "\n",
        "    \n",
        "<font color=blue>We usually do not require gradients for all our variables. If we could indicate which variables require gradients, then we could keep track of the routes that lead to these variables only and drop all the rest. This would be a huge improvement in resources and speed (number of calculations). Add a boolean parameter in the Variable class initialization called `requiresGrad`, and use it to add this functionality.</font>"
      ]
    },
    {
      "cell_type": "code",
      "execution_count": 84,
      "metadata": {
        "id": "jajhyYI7ltYV"
      },
      "outputs": [],
      "source": [
        "class Variable: #Simple variable. These are the leafs of our tree, they can request to have a gradient calculated, or not\n",
        "    def __init__(self, value,requiresGrad = True):\n",
        "        self.value = value\n",
        "        self.gradRoutes = [] # A variable by default has no grad Routes (was not created by anything, just defined)\n",
        "        self.grad = 0.0\n",
        "        self.requiresGrad = requiresGrad\n",
        "\n",
        "    def backProp(self, route_val = 1.0):\n",
        "      if self.requiresGrad:\n",
        "        # Add together the incoming gradients from the different routes that lead to a node - this will be the final gradient for the node\n",
        "        self.grad += route_val\n",
        "\n",
        "        # For every parent variable and corresponding local derivative value that we have in the gradRoutes, continue with the gradient calculation\n",
        "        for variable, local_derivative_value in self.gradRoutes:\n",
        "          # Multiply the incoming gradient with the local derivatives corresponding the parent variable, and continue the backpropagation\n",
        "          variable.backProp(local_derivative_value * route_val)\n",
        "\n",
        "    def zeroGrad(self):\n",
        "        self.grad = 0.0\n",
        "\n",
        "    def zeroGradsRecursively(self):\n",
        "        self.zeroGrad()\n",
        "        for variable, _ in self.gradRoutes:\n",
        "            variable.zeroGradsRecursively()\n",
        "\n",
        "    def __add__(self, b):\n",
        "        return vAdd(self, b)\n",
        "\n",
        "    def __mul__(self, b):\n",
        "        return vMul(self, b)\n",
        "\n",
        "    def __str__(self):\n",
        "        return 'Value: {self.value}, Gradient: {self.grad}'.format(self=self)"
      ]
    },
    {
      "cell_type": "code",
      "execution_count": 85,
      "metadata": {
        "colab": {
          "base_uri": "https://localhost:8080/"
        },
        "id": "2aCpAAc3ohLr",
        "outputId": "955d93f8-d8e9-4c8e-b8ee-075ddda8beb8"
      },
      "outputs": [
        {
          "name": "stdout",
          "output_type": "stream",
          "text": [
            "The derivative of the result with respect to a is: 11.0\n",
            "The derivative of the result with respect to b is: 0.0\n"
          ]
        }
      ],
      "source": [
        "a = Variable(4,True)   # a = 4\n",
        "b = Variable(3,False)   # b = 3\n",
        "res = (a + b) * a # res = a * c = 28\n",
        "\n",
        "# Call backprop on the result\n",
        "res.backProp()\n",
        "print(\"The derivative of the result with respect to a is:\", a.grad)\n",
        "print(\"The derivative of the result with respect to b is:\", b.grad)\n"
      ]
    },
    {
      "cell_type": "markdown",
      "metadata": {
        "id": "8hckejQQltYV"
      },
      "source": [
        "---\n",
        "    \n",
        "<font color=blue>We obviously need to implement more functions - implement the following functions:\n",
        "- Subtraction\n",
        "- Raising to a power\n",
        "- Division\n",
        "- Unary negation\n",
        "- The (natural) exponential function exp(x)\n",
        "- ... any other function you might want</font>"
      ]
    },
    {
      "cell_type": "code",
      "execution_count": 86,
      "metadata": {
        "id": "RZaUiWlaZ2BI"
      },
      "outputs": [],
      "source": [
        "import math"
      ]
    },
    {
      "cell_type": "code",
      "execution_count": 87,
      "metadata": {
        "id": "lFrj_O_3ltYc"
      },
      "outputs": [],
      "source": [
        "def vSub(A: Variable, B: Variable): # Substraction\n",
        "    if not isinstance(A,Variable):\n",
        "      A = Variable(A)\n",
        "    if not isinstance(B,Variable):\n",
        "      B = Variable(B)\n",
        "    result = Variable(A.value - B.value) # Create a new Variable to store the result, and pass it the value = a - b\n",
        "\n",
        "    #keep track of the parent variables, and of the local derivative associated with each one\n",
        "    result.gradRoutes.append((A, 1)) # dresult / dA = 1\n",
        "    result.gradRoutes.append((B, -1)) # dresult / dB = -1\n",
        "\n",
        "    return result\n",
        "\n",
        "def vRaise(A: Variable, B: Variable): # Raise\n",
        "    if not isinstance(A,Variable):\n",
        "      A = Variable(A)\n",
        "    if not isinstance(B,Variable):\n",
        "      B = Variable(B)\n",
        "    result = Variable(A.value ** B.value) # Create a new Variable to store the result, and pass it the value = a ** b\n",
        "\n",
        "    #keep track of the parent variables, and of the local derivative associated with each one\n",
        "    result.gradRoutes.append((A, B.value*(A.value**(B.value - 1)))) # dresult / dA = B*A**(B-1)\n",
        "    result.gradRoutes.append((B, math.log(A.value)*(A.value ** B.value))) # dresult / dB = ln(A)*A**B\n",
        "\n",
        "    return result\n",
        "\n",
        "def vDiv(A: Variable, B: Variable): # Division\n",
        "    if not isinstance(A,Variable):\n",
        "      A = Variable(A)\n",
        "    if not isinstance(B,Variable):\n",
        "      B = Variable(B)\n",
        "\n",
        "    result = Variable(A.value / B.value) # Create a new Variable to store the result, and pass it the value = a / b\n",
        "\n",
        "    #keep track of the parent variables, and of the local derivative associated with each one\n",
        "    result.gradRoutes.append((A, 1/B.value)) # dresult / dA = 1/B\n",
        "    result.gradRoutes.append((B, -A.value/(B.value ** 2))) # dresult / dB = -A/(B**2)\n",
        "\n",
        "    return result\n",
        "\n",
        "def vUnary(A: Variable): # Unary negation\n",
        "    if not isinstance(A,Variable):\n",
        "      A = Variable(A)\n",
        "\n",
        "    result = Variable(-A.value) # Create a new Variable to store the result, and pass it the value = -a\n",
        "\n",
        "    #keep track of the parent variables, and of the local derivative associated with each one\n",
        "    result.gradRoutes.append((A, -1)) # dresult / dA = -1\n",
        "\n",
        "    return result\n",
        "\n",
        "def vExp(A: Variable): # Natural exponent\n",
        "    if not isinstance(A,Variable):\n",
        "      A = Variable(A)\n",
        "\n",
        "    result = Variable(math.e**A.value) # Create a new Variable to store the result, and pass it the value = e **a\n",
        "\n",
        "    #keep track of the parent variables, and of the local derivative associated with each one\n",
        "    result.gradRoutes.append((A, math.e**A.value)) # dresult / dA = e**A\n",
        "\n",
        "    return result\n"
      ]
    },
    {
      "cell_type": "code",
      "execution_count": 88,
      "metadata": {
        "id": "YOIOZ23adhyv"
      },
      "outputs": [],
      "source": [
        "class Variable: #Simple variable. These are the leafs of our tree, they can request to have a gradient calculated, or not\n",
        "    def __init__(self, value,requiresGrad = True):\n",
        "        self.value = value\n",
        "        self.gradRoutes = [] # A variable by default has no grad Routes (was not created by anything, just defined)\n",
        "        self.grad = 0.0\n",
        "        self.requiresGrad = requiresGrad\n",
        "\n",
        "    def backProp(self, route_val = 1.0):\n",
        "      if self.requiresGrad:\n",
        "        # Add together the incoming gradients from the different routes that lead to a node - this will be the final gradient for the node\n",
        "        self.grad += route_val\n",
        "\n",
        "        # For every parent variable and corresponding local derivative value that we have in the gradRoutes, continue with the gradient calculation\n",
        "        for variable, local_derivative_value in self.gradRoutes:\n",
        "          # Multiply the incoming gradient with the local derivatives corresponding the parent variable, and continue the backpropagation\n",
        "          variable.backProp(local_derivative_value * route_val)\n",
        "\n",
        "    def zeroGrad(self):\n",
        "        self.grad = 0.0\n",
        "\n",
        "    def zeroGradsRecursively(self):\n",
        "        self.zeroGrad()\n",
        "        for variable, _ in self.gradRoutes:\n",
        "            variable.zeroGradsRecursively()\n",
        "\n",
        "    def __add__(self, b):\n",
        "        return vAdd(self, b)\n",
        "\n",
        "    def __radd__(self,b):\n",
        "        return vAdd(self,b)\n",
        "\n",
        "    def __mul__(self, b):\n",
        "        return vMul(self, b)\n",
        "\n",
        "    def __rmul__(self,b):\n",
        "        return vMul(self,b)\n",
        "\n",
        "    def __sub__(self,b):\n",
        "        return vSub(self,b)\n",
        "\n",
        "    def __rsub__(self,b):\n",
        "        return vSub(b,self)\n",
        "\n",
        "    def __truediv__(self,b):\n",
        "        return vDiv(self,b)\n",
        "\n",
        "    def __rtruediv__(self,b):\n",
        "        return vDiv(b,self)\n",
        "\n",
        "    def __pow__(self,b):\n",
        "        return vRaise(self,b)\n",
        "\n",
        "    def __rpow__(self,b):\n",
        "        return vRaise(b,self)\n",
        "\n",
        "    def __neg__(self):\n",
        "        return vUnary(self)\n",
        "\n",
        "    def __exp__(self):\n",
        "        return vExp(self)\n",
        "\n",
        "    def __str__(self):\n",
        "        return 'Value: {self.value}, Gradient: {self.grad}'.format(self=self)"
      ]
    },
    {
      "cell_type": "code",
      "execution_count": 89,
      "metadata": {
        "colab": {
          "base_uri": "https://localhost:8080/"
        },
        "id": "RQL8zCEbgXj1",
        "outputId": "9b2fccb9-3339-45fd-f225-a8f204f1ca4b"
      },
      "outputs": [
        {
          "name": "stdout",
          "output_type": "stream",
          "text": [
            "The derivative of the result with respect to a is: 48.0\n",
            "The derivative of the result with respect to b is: 88.722839111673\n"
          ]
        }
      ],
      "source": [
        "a = Variable(4)   # a = 4\n",
        "b = Variable(3)   # b = 3\n",
        "res = (a ** b)\n",
        "\n",
        "# Call backprop on the result\n",
        "res.backProp()\n",
        "print(\"The derivative of the result with respect to a is:\", a.grad)\n",
        "print(\"The derivative of the result with respect to b is:\", b.grad)\n",
        "# Zero gradients"
      ]
    },
    {
      "cell_type": "code",
      "execution_count": 90,
      "metadata": {
        "colab": {
          "base_uri": "https://localhost:8080/"
        },
        "id": "WHxQ-6tVUJes",
        "outputId": "13d7e036-d3db-4363-a294-99317b96cbaf"
      },
      "outputs": [
        {
          "name": "stdout",
          "output_type": "stream",
          "text": [
            "The derivative of the result with respect to a is: 0.3333333333333333\n",
            "The derivative of the result with respect to b is: -0.4444444444444444\n"
          ]
        }
      ],
      "source": [
        "a = Variable(4)   # a = 4\n",
        "b = Variable(3)   # b = 3\n",
        "res = (a / b)\n",
        "\n",
        "# Call backprop on the result\n",
        "res.backProp()\n",
        "print(\"The derivative of the result with respect to a is:\", a.grad)\n",
        "print(\"The derivative of the result with respect to b is:\", b.grad)"
      ]
    },
    {
      "cell_type": "code",
      "execution_count": 91,
      "metadata": {
        "colab": {
          "base_uri": "https://localhost:8080/"
        },
        "id": "-thL3HIqUaPu",
        "outputId": "cc80a260-d706-4c6f-cde5-404b7e372a4a"
      },
      "outputs": [
        {
          "name": "stdout",
          "output_type": "stream",
          "text": [
            "The derivative of the result with respect to a is: 22.16716829679195\n",
            "The derivative of the result with respect to b is: 0.0\n"
          ]
        }
      ],
      "source": [
        "a = Variable(2)   # a = 4\n",
        "b = Variable(3)   # b = 3\n",
        "res = a.__exp__() * 3\n",
        "\n",
        "# Call backprop on the result\n",
        "res.backProp()\n",
        "print(\"The derivative of the result with respect to a is:\", a.grad)\n",
        "print(\"The derivative of the result with respect to b is:\", b.grad)"
      ]
    },
    {
      "cell_type": "markdown",
      "metadata": {
        "id": "Rqg4E50MltYc"
      },
      "source": [
        "---\n",
        "\n",
        "    \n",
        "<font color=blue>Our operations currently accept only instances of our Variable class as inputs. So, if you wanted to calculate `a = b * 2` where `b` is an instance of our variable class and `2` is just a numerical constant you would get an error as our framework does not know how to multiply a `Variable` with a number. You should instead write `a = b * Variable(2)` to achieve this.</font>\n",
        "\n",
        "<font color=blue>Improve further the usability of our framework by allowing our functions to mix numbers and Variables in the same operation. To do this, you should check the type of each operand, and if it is not a `Variable`, convert it to a `Variable` before you continue.</font>"
      ]
    },
    {
      "cell_type": "code",
      "execution_count": 92,
      "metadata": {
        "id": "vjXt0Nf7TUrg"
      },
      "outputs": [],
      "source": [
        "# The code for this is included above"
      ]
    },
    {
      "cell_type": "code",
      "execution_count": 93,
      "metadata": {
        "colab": {
          "base_uri": "https://localhost:8080/"
        },
        "id": "RGRdL-c7ltYc",
        "outputId": "363b7f7b-f514-4cdc-d83a-e146b8721ac7"
      },
      "outputs": [
        {
          "name": "stdout",
          "output_type": "stream",
          "text": [
            "The derivative of the result with respect to a is: 96.0\n"
          ]
        }
      ],
      "source": [
        "a = Variable(4)   # a = 4\n",
        "res = (a ** 2) * 2 * a # res = 2 * a**3\n",
        "\n",
        "# Call backprop on the result\n",
        "res.backProp()\n",
        "print(\"The derivative of the result with respect to a is:\", a.grad)\n"
      ]
    },
    {
      "cell_type": "code",
      "execution_count": 94,
      "metadata": {
        "colab": {
          "base_uri": "https://localhost:8080/"
        },
        "id": "1Rg1z3k2OPNb",
        "outputId": "d29cff85-5ff7-4c99-d282-ad68a77c044f"
      },
      "outputs": [
        {
          "name": "stdout",
          "output_type": "stream",
          "text": [
            "The derivative of the result with respect to b is: 1064.674069340076\n"
          ]
        }
      ],
      "source": [
        "b = Variable(3)   # b = 3\n",
        "res = 2 ** (3 * b)\n",
        "\n",
        "# Call backprop on the result\n",
        "res.backProp()\n",
        "print(\"The derivative of the result with respect to b is:\", b.grad)"
      ]
    },
    {
      "cell_type": "code",
      "execution_count": 95,
      "metadata": {
        "colab": {
          "base_uri": "https://localhost:8080/"
        },
        "id": "YAXrYJLtQqig",
        "outputId": "1f7b7f8b-28b8-4a20-8dd5-4f8a820010e8"
      },
      "outputs": [
        {
          "name": "stdout",
          "output_type": "stream",
          "text": [
            "The derivative of the result with respect to a is: -54.59815003314423\n"
          ]
        }
      ],
      "source": [
        "a = Variable(4)   # a = 4\n",
        "res = (16 / a).__exp__()\n",
        "\n",
        "# Call backprop on the result\n",
        "res.backProp()\n",
        "print(\"The derivative of the result with respect to a is:\", a.grad)"
      ]
    },
    {
      "cell_type": "markdown",
      "metadata": {
        "id": "b1YTHNPxltYd"
      },
      "source": [
        "---\n",
        "\n",
        "\n",
        "When we create a new variable through an operation, we create gradRoutes to all the parent variables and calculate the value of the local derivative. The sole purpose of calculating this value is to use it as a multiplier during backProp.\n",
        "\n",
        "During the backprop operation, everytime our Variable receives a gradient it multiplies it with the local derivative value of each gradRoute (that was calcualted during the forward pass), and passes it back to the corresponding parent Variable.\n",
        "\n",
        "It seems a bit strange that it is our Variable that has to keep track of these local derivative values and do this multiplication... In addition, this is a multiplication only because we deal with scalars, if we were implementing tensor (vector, matrix, tensor) operations we would have to substitute this scalar multiplication with a tensor operation...\n",
        "\n",
        "It is better if our Variable does not have to bother about all these. What exactly we should do when we push the gradient back depends on the operation. It would be better, if each operation gave us the recipe of what to do during backprop. This would mean that every time we perform an operation, the operation defines and gives us a small function that is what we should call during backProp. This way, each operation keeps responsibility about how backprop should be implemented through it, and our Variable just needs to call this small function.\n",
        "\n",
        "Keeping track of this function instead of the local derivative value will allow us to easily extend this framework to tensor operations. In addition, keeping a note of the function instead of the value, allows us to abstract away stuff. This basically means that we can build the computation graph first, with placeholder variables independently of specific input values, and then reuse it for different inputs. This is how many deep learning frameworks work.\n",
        "\n",
        "<font color=blue>How to implement this? Every time we do an operation and create a new gradRoute, instead of calculating and storing a value for the local derivative, define a small function that calculates this local derivative value, takes the gradient that is being backpropagated and multiplies (or otherwise, depending on the operation) the two things.</font>"
      ]
    },
    {
      "cell_type": "code",
      "execution_count": 96,
      "metadata": {
        "id": "U67rWmdpltYd"
      },
      "outputs": [],
      "source": [
        "def vAdd(A: Variable, B: Variable):\n",
        "    if not isinstance(A, Variable):\n",
        "        A = Variable(A)\n",
        "    if not isinstance(B, Variable):\n",
        "        B = Variable(B)\n",
        "\n",
        "    def add_backprop(route_val):\n",
        "        A.backProp(route_val)\n",
        "        B.backProp(route_val)\n",
        "\n",
        "    result = Variable(A.value + B.value)\n",
        "    result.gradRoutes.append(([A,B],add_backprop))\n",
        "    return result\n",
        "\n",
        "\n",
        "def vMul(A: Variable, B: Variable):\n",
        "    if not isinstance(A, Variable):\n",
        "        A = Variable(A)\n",
        "    if not isinstance(B, Variable):\n",
        "        B = Variable(B)\n",
        "\n",
        "    def mul_backprop(route_val):\n",
        "        A.backProp(route_val * B.value)\n",
        "        B.backProp(route_val * A.value)\n",
        "\n",
        "    result = Variable(A.value * B.value)\n",
        "    result.gradRoutes.append(([A,B],mul_backprop))\n",
        "    return result\n",
        "\n",
        "def vSub(A: Variable, B: Variable):\n",
        "    if not isinstance(A, Variable):\n",
        "        A = Variable(A)\n",
        "    if not isinstance(B, Variable):\n",
        "        B = Variable(B)\n",
        "\n",
        "    def sub_backprop(route_val):\n",
        "        A.backProp(route_val)\n",
        "        B.backProp(-route_val)\n",
        "\n",
        "    result = Variable(A.value - B.value)\n",
        "    result.gradRoutes.append(([A,B],sub_backprop))\n",
        "    return result\n",
        "\n",
        "def vDiv(A: Variable, B: Variable):\n",
        "    if not isinstance(A, Variable):\n",
        "        A = Variable(A)\n",
        "    if not isinstance(B, Variable):\n",
        "        B = Variable(B)\n",
        "\n",
        "    def div_backprop(route_val):\n",
        "        A.backProp(route_val*(1/B.value))\n",
        "        B.backProp(route_val*(-A.value/(B.value ** 2)))\n",
        "\n",
        "    result = Variable(A.value / B.value)\n",
        "    result.gradRoutes.append(([A,B],div_backprop))\n",
        "    return result\n",
        "\n",
        "def vRaise(A: Variable, B: Variable):\n",
        "    if not isinstance(A, Variable):\n",
        "        A = Variable(A)\n",
        "    if not isinstance(B, Variable):\n",
        "        B = Variable(B)\n",
        "\n",
        "    def raise_backprop(route_val):\n",
        "        A.backProp(route_val*(B.value*(A.value**(B.value-1))))\n",
        "        B.backProp(route_val*(math.log(A.value)*(A.value ** B.value)))\n",
        "\n",
        "    result = Variable(A.value ** B.value)\n",
        "    result.gradRoutes.append(([A,B],raise_backprop))\n",
        "    return result\n",
        "\n",
        "def vUnary(A: Variable):\n",
        "    if not isinstance(A, Variable):\n",
        "        A = Variable(A)\n",
        "\n",
        "    def unary_backprop(route_val):\n",
        "        A.backProp(-route_val)\n",
        "\n",
        "    result = Variable(-A.value)\n",
        "    result.gradRoutes.append(([A],unary_backprop))\n",
        "    return result\n",
        "\n",
        "def vExp(A: Variable):\n",
        "    if not isinstance(A, Variable):\n",
        "        A = Variable(A)\n",
        "\n",
        "    def exp_backprop(route_val):\n",
        "        A.backProp(route_val*math.e**A.value)\n",
        "\n",
        "    result = Variable(math.e**(A.value))\n",
        "    result.gradRoutes.append(([A],exp_backprop))\n",
        "    return result"
      ]
    },
    {
      "cell_type": "code",
      "execution_count": 97,
      "metadata": {
        "id": "UzmurhEnXnVE"
      },
      "outputs": [],
      "source": [
        "class Variable:\n",
        "    def __init__(self, value, requiresGrad=True):\n",
        "        self.value = value\n",
        "        self.gradRoutes = []\n",
        "        self.grad = 0.0\n",
        "        self.requiresGrad = requiresGrad\n",
        "\n",
        "    def backProp(self, route_val=1.0):\n",
        "        if self.requiresGrad:\n",
        "            self.grad += route_val\n",
        "            for variables,backprop_function in self.gradRoutes:\n",
        "                backprop_function(route_val)\n",
        "\n",
        "    def zeroGrad(self):\n",
        "        self.grad = 0.0\n",
        "\n",
        "    def zeroGradsRecursively(self):\n",
        "        self.zeroGrad()\n",
        "        for variables,backprop_function in self.gradRoutes:\n",
        "          for variable in variables:\n",
        "            variable.zeroGradsRecursively()\n",
        "\n",
        "    def __add__(self, b):\n",
        "        return vAdd(self, b)\n",
        "\n",
        "    def __radd__(self, b):\n",
        "        return vAdd(self, b)\n",
        "\n",
        "    def __mul__(self, b):\n",
        "        return vMul(self, b)\n",
        "\n",
        "    def __rmul__(self, b):\n",
        "        return vMul(self, b)\n",
        "\n",
        "    def __sub__(self,b):\n",
        "        return vSub(self,b)\n",
        "\n",
        "    def __rsub__(self,b):\n",
        "        return vSub(b,self)\n",
        "\n",
        "    def __truediv__(self,b):\n",
        "        return vDiv(self,b)\n",
        "\n",
        "    def __rtruediv__(self,b):\n",
        "        return vDiv(b,self)\n",
        "\n",
        "    def __pow__(self,b):\n",
        "        return vRaise(self,b)\n",
        "\n",
        "    def __rpow__(self,b):\n",
        "        return vRaise(b,self)\n",
        "\n",
        "    def __neg__(self):\n",
        "        return vUnary(self)\n",
        "\n",
        "    def __exp__(self):\n",
        "        return vExp(self)\n",
        "\n",
        "    def __str__(self):\n",
        "        return 'Value: {self.value}, Gradient: {self.grad}'.format(self=self)"
      ]
    },
    {
      "cell_type": "code",
      "execution_count": 98,
      "metadata": {
        "colab": {
          "base_uri": "https://localhost:8080/"
        },
        "id": "4LDFnXY4YMkj",
        "outputId": "eaea1ec4-8a74-48dd-cc6f-871213a0229d"
      },
      "outputs": [
        {
          "name": "stdout",
          "output_type": "stream",
          "text": [
            "The derivative of the result with respect to a is: 11.0\n",
            "Second time\n",
            "The derivative of the result with respect to a is: 11.0\n"
          ]
        }
      ],
      "source": [
        "a = Variable(4)   # a = 4\n",
        "res = (3 + a) * a # res = 28\n",
        "\n",
        "# Call backprop on the result\n",
        "res.backProp()\n",
        "print(\"The derivative of the result with respect to a is:\", a.grad)\n",
        "\n",
        "# Zero gradients\n",
        "\n",
        "res.zeroGradsRecursively()\n",
        "# Call backprop on the result once more\n",
        "print(\"Second time\")\n",
        "res.backProp()\n",
        "print(\"The derivative of the result with respect to a is:\", a.grad)"
      ]
    },
    {
      "cell_type": "code",
      "execution_count": 99,
      "metadata": {
        "colab": {
          "base_uri": "https://localhost:8080/"
        },
        "id": "FyJQAOsHSGgO",
        "outputId": "31ce9416-8f56-4c2e-864f-7ecc66ba6ebb"
      },
      "outputs": [
        {
          "name": "stdout",
          "output_type": "stream",
          "text": [
            "The derivative of the result with respect to a is: -54.59815003314423\n"
          ]
        }
      ],
      "source": [
        "a = Variable(4)   # a = 4\n",
        "res = (16 / a).__exp__()\n",
        "\n",
        "# Call backprop on the result\n",
        "res.backProp()\n",
        "print(\"The derivative of the result with respect to a is:\", a.grad)"
      ]
    },
    {
      "cell_type": "code",
      "execution_count": 100,
      "metadata": {
        "colab": {
          "base_uri": "https://localhost:8080/"
        },
        "id": "TlQqCyQKSWua",
        "outputId": "132f20ec-857e-4640-d087-884d694f95f1"
      },
      "outputs": [
        {
          "name": "stdout",
          "output_type": "stream",
          "text": [
            "The derivative of the result with respect to a is: 0.6666666666666666\n",
            "The derivative of the result with respect to b is: -0.8888888888888888\n"
          ]
        }
      ],
      "source": [
        "a = Variable(4)   # a = 4\n",
        "b = Variable(3)   # b = 3\n",
        "res = (a / b) * 2\n",
        "\n",
        "# Call backprop on the result\n",
        "res.backProp()\n",
        "print(\"The derivative of the result with respect to a is:\", a.grad)\n",
        "print(\"The derivative of the result with respect to b is:\", b.grad)"
      ]
    },
    {
      "cell_type": "code",
      "execution_count": 101,
      "metadata": {
        "colab": {
          "base_uri": "https://localhost:8080/"
        },
        "id": "TU9eJbhJS74t",
        "outputId": "d1f1fada-440d-4b43-94d4-535e1b0dfe5a"
      },
      "outputs": [
        {
          "name": "stdout",
          "output_type": "stream",
          "text": [
            "Result = 10\n",
            "The derivative of the result with respect to a is: 7.0\n",
            "The derivative of the result with respect to b is: -5.0\n"
          ]
        }
      ],
      "source": [
        "a = Variable(5)  # a = 5\n",
        "b = Variable(3)  # b = 3\n",
        "c = a - b        # c = 5 - 3\n",
        "res = a * c      # res = a * c = 10\n",
        "\n",
        "print(\"Result =\", res.value)\n",
        "\n",
        "# Call backprop on the result\n",
        "res.backProp()\n",
        "\n",
        "# Now all variables should contain in their \"grad\" the derivative d(res) / d(variable)\n",
        "print(\"The derivative of the result with respect to a is:\", a.grad)\n",
        "print(\"The derivative of the result with respect to b is:\", b.grad)"
      ]
    },
    {
      "cell_type": "markdown",
      "metadata": {
        "id": "uEL0luBeltYd"
      },
      "source": [
        "---\n",
        "<font color=blue>We will Write some code to manually check that our gradient calculation is correct, using the property of:</font>\n",
        "\n",
        "<font color=blue>$$f'(x) = \\frac {f(x+\\epsilon) - f(x-\\epsilon)}{2 \\epsilon}$$ where $\\epsilon$ is a very small number to approximately calculate the gradient.</font>\n",
        "\n",
        "<font color=blue>Then use it to calculate the derivative of the function $f(x) = 21 * x^3$ at $x=3.2$.</font>"
      ]
    },
    {
      "cell_type": "code",
      "execution_count": 102,
      "metadata": {
        "colab": {
          "base_uri": "https://localhost:8080/"
        },
        "id": "25hV05nLltYd",
        "outputId": "0d26379f-7589-4afd-8673-850c744f0e8a"
      },
      "outputs": [
        {
          "name": "stdout",
          "output_type": "stream",
          "text": [
            "The derivative of the f with respect to x is: 645.1200000000001\n",
            "645.1200210000252\n"
          ]
        }
      ],
      "source": [
        "# Your Code Here\n",
        "eps = 0.001\n",
        "x = Variable(3.2)\n",
        "f = 21 * (x ** 3)\n",
        "f1 = (21*(x+eps)**3 - 21*(x-eps)**3) / (2*eps)\n",
        "f.backProp()\n",
        "print(\"The derivative of the f with respect to x is:\", x.grad)\n",
        "print(f1.value)"
      ]
    }
  ],
  "metadata": {
    "accelerator": "GPU",
    "colab": {
      "gpuType": "T4",
      "provenance": []
    },
    "kernelspec": {
      "display_name": "pytorch",
      "language": "python",
      "name": "pytorch"
    },
    "language_info": {
      "codemirror_mode": {
        "name": "ipython",
        "version": 3
      },
      "file_extension": ".py",
      "mimetype": "text/x-python",
      "name": "python",
      "nbconvert_exporter": "python",
      "pygments_lexer": "ipython3",
      "version": "3.7.16"
    }
  },
  "nbformat": 4,
  "nbformat_minor": 0
}
